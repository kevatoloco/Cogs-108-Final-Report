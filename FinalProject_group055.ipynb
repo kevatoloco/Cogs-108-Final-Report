{
 "cells": [
  {
   "cell_type": "markdown",
   "metadata": {},
   "source": [
    "# COGS 108 - Final Project "
   ]
  },
  {
   "cell_type": "markdown",
   "metadata": {},
   "source": [
    "## Permissions"
   ]
  },
  {
   "cell_type": "markdown",
   "metadata": {},
   "source": [
    "Place an `X` in the appropriate bracket below to specify if you would like your group's project to be made available to the public. (Note that PIDs will be scraped from the public submission, but student names will be included.)\n",
    "\n",
    "* [  ] YES - make available\n",
    "* [ X ] NO - keep private"
   ]
  },
  {
   "cell_type": "markdown",
   "metadata": {},
   "source": [
    "# Overview"
   ]
  },
  {
   "cell_type": "markdown",
   "metadata": {},
   "source": [
    "In this research, we use 3 datasets to answer our research question and test our hypothesis: the Life Expectancy dataset, US Chronic Disease Indicators dataset, and Alcohol Consumption by country. We clean and organize the data sets to only have the columns that are most necessary for our analysis. Since we associate alcohol consumption with low life expectancy rates and high accident rates, we do data analysis on the three clean data sets. We also graph different trends like the top 10 countries with the lowest life expectancy rate, the top 10 countries with the highest alcohol consumption rate, comparing the two, and also finding statistical trends between demographics. "
   ]
  },
  {
   "cell_type": "markdown",
   "metadata": {},
   "source": [
    "# Names and Group Members PIDs\n",
    "\n",
    "| Name  | PID | GitHub | LinkedIn |\n",
    "|---|---|---|---|\n",
    "| Sabrina Ho  |  A14897452 | [iamsabhoho](https://github.com/iamsabhoho) | [sabrinaho7](https://www.linkedin.com/in/sabrinaho7/) |\n",
    "| Sim Bhatia  |  A13965428 | [sibhatia](https://github.com/sibhatia) | [simbhatia33](https://www.linkedin.com/in/simbhatia33/) |\n",
    "| Jaye Cho | A15500172 | [jayeokay](https://github.com/jayeokay) | [jaye-cho](https://www.linkedin.com/in/jaye-cho/) |\n",
    "| Kevin Nguyen  | A15283178  | [kevatoloco](https://github.com/kevatoloco) | |"
   ]
  },
  {
   "cell_type": "markdown",
   "metadata": {},
   "source": [
    "# Research Question"
   ]
  },
  {
   "cell_type": "markdown",
   "metadata": {},
   "source": [
    "We are interested in understanding how alcohol consumption correlate to mortality and life expectancy rates across the world and US specifically."
   ]
  },
  {
   "cell_type": "markdown",
   "metadata": {},
   "source": [
    "## Background and Prior Work"
   ]
  },
  {
   "cell_type": "markdown",
   "metadata": {},
   "source": [
    "According to the National Institute on [Alcohol Abuse and Alcoholism](https://pubs.niaaa.nih.gov/publications/arh27-1/39-51.htm), there are adverse effects based on alcohol-based studies and mortality rates. Based on the amount of alcohol consumed, there are more health risks than acute consequences (like traffic crashes). The [Centers for Disease Control and Prevention](https://www.cdc.gov/alcohol/fact-sheets/alcohol-use.htm) focuses on health risks based on “binge drinking” alcohol. The CDC considers the short term consequences of alcoholism to include “motor crashes” amongst other health-related issues. For long term consequences, you can see more health risks associated with alcohol and violence. The interesting aspect is that in both studies, they focus on the most common effects of alcoholism.  "
   ]
  },
  {
   "cell_type": "markdown",
   "metadata": {},
   "source": [
    "# Hypothesis\n"
   ]
  },
  {
   "cell_type": "markdown",
   "metadata": {},
   "source": [
    "We predict that the higher the alcohol consumption, the lower the life expectancy and the higher the alcohol-induced accidents. We believe this based on past experience looking down on drinking alcohol, seminars aimed at college students when it comes to drinking alcohol, and our previous research done around alcohol induced accidents and health risks. Alcohol has always had a negative connotation in our worldview (outside of social toasting or a celebration) so we feel more inclined to assume the worst. "
   ]
  },
  {
   "cell_type": "markdown",
   "metadata": {},
   "source": [
    "# Dataset(s)"
   ]
  },
  {
   "cell_type": "markdown",
   "metadata": {},
   "source": [
    "### Dataset1 Name: Life Expectancy (WHO) Kaggle\n",
    "#### Dataset Link: \n",
    "The dataset we used can be found [here](https://www.kaggle.com/kumarajarshi/life-expectancy-who#Life%20Expectancy%20Data.csv).\n",
    "It constains 2938 observations where each row includes 20 different predicting variables.\n",
    "\n",
    "#### Size of Dataset: \n",
    "This life expectancy related dataset recorded from 2000 to 2015 consists of nearly three thousands rows including 193 countries with 20 different predicting variables. But in this project, we will be extracting only life expectancy, adult mortality, and alcohol consumption.\n",
    "\n",
    "The files have the following columns:\n",
    "\n",
    "Header | Definition\n",
    "---|---------\n",
    "`Country` | Country\n",
    "`Year` | Year\n",
    "`Status` | Developed or Developing status\n",
    "`Life expectancyLife` | Expectancy in age\n",
    "`Adult Mortality` | Adult Mortality Rates of both sexes (probability of dying between 15 and 60 years per 1000 population)\n",
    "`infant deaths` | Number of Infant Deaths per 1000 population\n",
    "`Alcohol` | Alcohol, recorded per capita (15+) consumption (in litres of pure alcohol)\n",
    "`percentage expenditure` | Expenditure on health as a percentage of Gross Domestic Product per capita(%)\n",
    "`Hepatitis B` | Hepatitis B (HepB) immunization coverage among 1-year-olds (%)\n",
    "`Measles` | Measles - number of reported cases per 1000 population\n",
    "`BMI` | Average Body Mass Index of entire population\n",
    "`under-five death` | sNumber of under-five deaths per 1000 population\n",
    "`Polio` | Polio (Pol3) immunization coverage among 1-year-olds (%)\n",
    "`Total expenditure` | General government expenditure on health as a percentage of total government expenditure (%)\n",
    "`Diphtheria` | Diphtheria tetanus toxoid and pertussis (DTP3) immunization coverage among 1-year-olds (%)\n",
    "`HIV/AIDS` | Deaths per 1 000 live births HIV/AIDS (0-4 years)\n",
    "`GDP` | Gross Domestic Product per capita (in USD)\n",
    "`Population` | Population of the country\n",
    "`thinness 1-19 years` | Prevalence of thinness among children and adolescents for Age 10 to 19 (% )\n",
    "`thinness 5-9 years` | Prevalence of thinness among children for Age 5 to 9(%) \n",
    "`Income composition of resources` | Human Development Index in terms of income composition of resources (index ranging from 0 to 1)\n",
    "`Schooling` | Number of years of Schooling(years)\n",
    "\n",
    "However, in this project we will only be using some of the columns: country, year, life_expectancy, and alcohol"
   ]
  },
  {
   "cell_type": "markdown",
   "metadata": {},
   "source": [
    "### Dataset2 Name: US Chronic Disease Indicators\n",
    "#### Dataset Link: \n",
    "The dataset we used can be found [here](https://data.world/cdc/us-chronic-disease-indicators/workspace/file?filename=U.S._Chronic_Disease_Indicators__CDI_.csv).\n",
    "\n",
    "It contains 237961 observations where each row includes 34 different columns.\n",
    "\n",
    "#### Size of Dataset:  \n",
    "Developed by consensus, the CDC's Division of Population Health provides state-specific indicators that dates from 2001 to 2014.\n",
    "\n",
    "This dataset has the following columns:\n",
    "\n",
    "Header | Definition\n",
    "---|---------\n",
    "`YearStart` | Year start\n",
    "`YearEnd` | Year end\n",
    "`LocationAbbr` | State Abbreviation\n",
    "`LocationDesc` | State\n",
    "`DataSource` | Source of data\n",
    "`Topic` | Topic of interest\n",
    "`Question` | Question related to the topic \n",
    "`Response` | Response\n",
    "`DatValueUnit` | Unit Value of Data\n",
    "`DataValueTypeID` | ID for type value of Data\n",
    "`DatValueType` | Type Value of Data\n",
    "`DatValue` | Actual Data Value\n",
    "`DatValueAlt` | Alternative Data Value\n",
    "`DatValueFootnoteSymbol` | Symbol to represent data footnote\n",
    "`DatValueFootnote` | Data value footnote\n",
    "`LowConfidenceLimit` | The lower limit of the confidence interval\n",
    "`StratificationCategory1` | Classification category (ex: gender) 1\n",
    "`Stratification1` | Classification of subjects (ex: female) 1\n",
    "`StratificationCategory2` | Classification category 2\n",
    "`Stratification2` | Classification of subjects 2\n",
    "`StratificationCategory3` | Classification category 3\n",
    "`Stratification3` | Classification of subjects 3\n",
    "`GeoLocation` | Location Identification\n",
    "`TopicID` | Identifier for Topic\n",
    "`QuestionID` | Identifier for Question\n",
    "`ResponseID` | Identifier for Response\n",
    "`LocationID` | Identifier for Location\n",
    "`StratificationCategoryID1` | Identifier for Stratification Category 1\n",
    "`StratificationID1` | Identifier for Stratification 1\n",
    "`StratificationCategoryID2` | Identifier for Stratification Category 2\n",
    "`StratificationID2` | Identifier for Stratification 2\n",
    "`StratificationCategoryID3` | Identifier for Stratification Category 3\n",
    "`StratificationID3` | Identifier for Stratification 3\n",
    "\n",
    "\n",
    "\n",
    "However, in this project we will only be using some of the columns: YearStart, YearEnd, LocationDesc, DataSource, Question, DataValueUnit, DataValueType, DataValue, LowConfidenceLimit, HigherConfidenceLimit, and Stratification1."
   ]
  },
  {
   "cell_type": "markdown",
   "metadata": {},
   "source": [
    "### Dataset3 Name: Alcohol Consumption\n",
    "#### Dataset Link: \n",
    "The datasets we used can be found [here](https://ourworldindata.org/alcohol-consumption).\n",
    "It constains 6468 observations where each row includes 38 different predicting variables.\n",
    "\n",
    "#### Size of Dataset: \n",
    "\n",
    "The datasets have the following columns:\n",
    "\n",
    "The first dataset includes the number of deaths by each cause in each country.\n",
    "\n",
    "Header | Definition\n",
    "---|---------\n",
    "`Entity` | Country Name\n",
    "`Code` | Country Code\n",
    "`Year` | Year\n",
    "`Unsafe water source (deaths)` | Number of deaths by cause\n",
    "`Poor sanitation (deaths)` | Number of deaths by cause\n",
    "`No access to handwashing facility (deaths)` | Number of deaths by cause\n",
    "`Indoor air pollution (deaths)` | Number of deaths by cause\n",
    "`Non-exclusive breastfeeding (deaths)` | Number of deaths by cause\n",
    "`Discontinued breastfeeding (deaths)` | Number of deaths by cause\n",
    "`Child wasting (deaths)` | Number of deaths by cause\n",
    "`Child stunting (deaths)` | Number of deaths by cause\n",
    "`Low birth weight (deaths)` | Number of deaths by cause\n",
    "`Secondhand smoke (deaths)` | Number of deaths by cause\n",
    "`Alcohol use (deaths)` | Number of deaths by cause\n",
    "`Drug use (deaths)` | Number of deaths by cause\n",
    "...\n",
    "`Diet low in whole grains (deaths)` | Number of deaths by cause\n",
    "`Diet low in nuts and seeds (deaths)` | Number of deaths by cause\n",
    "`Diet low in seafood omega-3 fatty acids (deaths)` | Number of deaths by cause\n",
    "\n",
    "The second dataset includes the death rates for each country due to alcohol.\n",
    "\n",
    "Header | Definition\n",
    "---|---------\n",
    "`Entity` | Country Name\n",
    "`Code` | Country Code\n",
    "`Year` | Year\n",
    "`Deaths - Alcohol use - Sex: Both - Age: Age-standardized (Rate) (Rate)` | Death Rate\n",
    "\n",
    "\n",
    "However, in this project we will only be using some of the columns: Entity, Year, Alcohol use (deaths), and Deaths - Alcohol use - Sex: Both - Age: Age-standardized (Rate) (Rate)"
   ]
  },
  {
   "cell_type": "markdown",
   "metadata": {},
   "source": [
    "# Setup"
   ]
  },
  {
   "cell_type": "code",
   "execution_count": 1,
   "metadata": {
    "ExecuteTime": {
     "end_time": "2020-03-20T06:49:11.094557Z",
     "start_time": "2020-03-20T06:49:05.478781Z"
    }
   },
   "outputs": [],
   "source": [
    "# imports\n",
    "import numpy as np\n",
    "import pandas as pd\n",
    "import seaborn as sns\n",
    "import matplotlib.pyplot as plt\n",
    "\n",
    "import patsy\n",
    "import statsmodels.api as sm"
   ]
  },
  {
   "cell_type": "code",
   "execution_count": 2,
   "metadata": {
    "ExecuteTime": {
     "end_time": "2020-03-20T06:49:11.155718Z",
     "start_time": "2020-03-20T06:49:11.097849Z"
    },
    "scrolled": true
   },
   "outputs": [
    {
     "data": {
      "text/html": [
       "<div>\n",
       "<style scoped>\n",
       "    .dataframe tbody tr th:only-of-type {\n",
       "        vertical-align: middle;\n",
       "    }\n",
       "\n",
       "    .dataframe tbody tr th {\n",
       "        vertical-align: top;\n",
       "    }\n",
       "\n",
       "    .dataframe thead th {\n",
       "        text-align: right;\n",
       "    }\n",
       "</style>\n",
       "<table border=\"1\" class=\"dataframe\">\n",
       "  <thead>\n",
       "    <tr style=\"text-align: right;\">\n",
       "      <th></th>\n",
       "      <th>Country</th>\n",
       "      <th>Year</th>\n",
       "      <th>Status</th>\n",
       "      <th>Life expectancy</th>\n",
       "      <th>Adult Mortality</th>\n",
       "      <th>infant deaths</th>\n",
       "      <th>Alcohol</th>\n",
       "      <th>percentage expenditure</th>\n",
       "      <th>Hepatitis B</th>\n",
       "      <th>Measles</th>\n",
       "      <th>...</th>\n",
       "      <th>Polio</th>\n",
       "      <th>Total expenditure</th>\n",
       "      <th>Diphtheria</th>\n",
       "      <th>HIV/AIDS</th>\n",
       "      <th>GDP</th>\n",
       "      <th>Population</th>\n",
       "      <th>thinness  1-19 years</th>\n",
       "      <th>thinness 5-9 years</th>\n",
       "      <th>Income composition of resources</th>\n",
       "      <th>Schooling</th>\n",
       "    </tr>\n",
       "  </thead>\n",
       "  <tbody>\n",
       "    <tr>\n",
       "      <th>0</th>\n",
       "      <td>Afghanistan</td>\n",
       "      <td>2015</td>\n",
       "      <td>Developing</td>\n",
       "      <td>65.0</td>\n",
       "      <td>263.0</td>\n",
       "      <td>62</td>\n",
       "      <td>0.01</td>\n",
       "      <td>71.279624</td>\n",
       "      <td>65.0</td>\n",
       "      <td>1154</td>\n",
       "      <td>...</td>\n",
       "      <td>6.0</td>\n",
       "      <td>8.16</td>\n",
       "      <td>65.0</td>\n",
       "      <td>0.1</td>\n",
       "      <td>584.259210</td>\n",
       "      <td>33736494.0</td>\n",
       "      <td>17.2</td>\n",
       "      <td>17.3</td>\n",
       "      <td>0.479</td>\n",
       "      <td>10.1</td>\n",
       "    </tr>\n",
       "    <tr>\n",
       "      <th>1</th>\n",
       "      <td>Afghanistan</td>\n",
       "      <td>2014</td>\n",
       "      <td>Developing</td>\n",
       "      <td>59.9</td>\n",
       "      <td>271.0</td>\n",
       "      <td>64</td>\n",
       "      <td>0.01</td>\n",
       "      <td>73.523582</td>\n",
       "      <td>62.0</td>\n",
       "      <td>492</td>\n",
       "      <td>...</td>\n",
       "      <td>58.0</td>\n",
       "      <td>8.18</td>\n",
       "      <td>62.0</td>\n",
       "      <td>0.1</td>\n",
       "      <td>612.696514</td>\n",
       "      <td>327582.0</td>\n",
       "      <td>17.5</td>\n",
       "      <td>17.5</td>\n",
       "      <td>0.476</td>\n",
       "      <td>10.0</td>\n",
       "    </tr>\n",
       "    <tr>\n",
       "      <th>2</th>\n",
       "      <td>Afghanistan</td>\n",
       "      <td>2013</td>\n",
       "      <td>Developing</td>\n",
       "      <td>59.9</td>\n",
       "      <td>268.0</td>\n",
       "      <td>66</td>\n",
       "      <td>0.01</td>\n",
       "      <td>73.219243</td>\n",
       "      <td>64.0</td>\n",
       "      <td>430</td>\n",
       "      <td>...</td>\n",
       "      <td>62.0</td>\n",
       "      <td>8.13</td>\n",
       "      <td>64.0</td>\n",
       "      <td>0.1</td>\n",
       "      <td>631.744976</td>\n",
       "      <td>31731688.0</td>\n",
       "      <td>17.7</td>\n",
       "      <td>17.7</td>\n",
       "      <td>0.470</td>\n",
       "      <td>9.9</td>\n",
       "    </tr>\n",
       "    <tr>\n",
       "      <th>3</th>\n",
       "      <td>Afghanistan</td>\n",
       "      <td>2012</td>\n",
       "      <td>Developing</td>\n",
       "      <td>59.5</td>\n",
       "      <td>272.0</td>\n",
       "      <td>69</td>\n",
       "      <td>0.01</td>\n",
       "      <td>78.184215</td>\n",
       "      <td>67.0</td>\n",
       "      <td>2787</td>\n",
       "      <td>...</td>\n",
       "      <td>67.0</td>\n",
       "      <td>8.52</td>\n",
       "      <td>67.0</td>\n",
       "      <td>0.1</td>\n",
       "      <td>669.959000</td>\n",
       "      <td>3696958.0</td>\n",
       "      <td>17.9</td>\n",
       "      <td>18.0</td>\n",
       "      <td>0.463</td>\n",
       "      <td>9.8</td>\n",
       "    </tr>\n",
       "    <tr>\n",
       "      <th>4</th>\n",
       "      <td>Afghanistan</td>\n",
       "      <td>2011</td>\n",
       "      <td>Developing</td>\n",
       "      <td>59.2</td>\n",
       "      <td>275.0</td>\n",
       "      <td>71</td>\n",
       "      <td>0.01</td>\n",
       "      <td>7.097109</td>\n",
       "      <td>68.0</td>\n",
       "      <td>3013</td>\n",
       "      <td>...</td>\n",
       "      <td>68.0</td>\n",
       "      <td>7.87</td>\n",
       "      <td>68.0</td>\n",
       "      <td>0.1</td>\n",
       "      <td>63.537231</td>\n",
       "      <td>2978599.0</td>\n",
       "      <td>18.2</td>\n",
       "      <td>18.2</td>\n",
       "      <td>0.454</td>\n",
       "      <td>9.5</td>\n",
       "    </tr>\n",
       "  </tbody>\n",
       "</table>\n",
       "<p>5 rows × 22 columns</p>\n",
       "</div>"
      ],
      "text/plain": [
       "       Country  Year      Status  Life expectancy   Adult Mortality  \\\n",
       "0  Afghanistan  2015  Developing              65.0            263.0   \n",
       "1  Afghanistan  2014  Developing              59.9            271.0   \n",
       "2  Afghanistan  2013  Developing              59.9            268.0   \n",
       "3  Afghanistan  2012  Developing              59.5            272.0   \n",
       "4  Afghanistan  2011  Developing              59.2            275.0   \n",
       "\n",
       "   infant deaths  Alcohol  percentage expenditure  Hepatitis B  Measles   ...  \\\n",
       "0             62     0.01               71.279624         65.0      1154  ...   \n",
       "1             64     0.01               73.523582         62.0       492  ...   \n",
       "2             66     0.01               73.219243         64.0       430  ...   \n",
       "3             69     0.01               78.184215         67.0      2787  ...   \n",
       "4             71     0.01                7.097109         68.0      3013  ...   \n",
       "\n",
       "   Polio  Total expenditure  Diphtheria    HIV/AIDS         GDP  Population  \\\n",
       "0    6.0               8.16         65.0        0.1  584.259210  33736494.0   \n",
       "1   58.0               8.18         62.0        0.1  612.696514    327582.0   \n",
       "2   62.0               8.13         64.0        0.1  631.744976  31731688.0   \n",
       "3   67.0               8.52         67.0        0.1  669.959000   3696958.0   \n",
       "4   68.0               7.87         68.0        0.1   63.537231   2978599.0   \n",
       "\n",
       "    thinness  1-19 years   thinness 5-9 years  \\\n",
       "0                   17.2                 17.3   \n",
       "1                   17.5                 17.5   \n",
       "2                   17.7                 17.7   \n",
       "3                   17.9                 18.0   \n",
       "4                   18.2                 18.2   \n",
       "\n",
       "   Income composition of resources  Schooling  \n",
       "0                            0.479       10.1  \n",
       "1                            0.476       10.0  \n",
       "2                            0.470        9.9  \n",
       "3                            0.463        9.8  \n",
       "4                            0.454        9.5  \n",
       "\n",
       "[5 rows x 22 columns]"
      ]
     },
     "execution_count": 2,
     "metadata": {},
     "output_type": "execute_result"
    }
   ],
   "source": [
    "# load files and create df\n",
    "# df1\n",
    "le_fp = 'data/Life Expectancy Data.csv'\n",
    "le_df = pd.read_csv(le_fp, sep=',')\n",
    "le_df.head()"
   ]
  },
  {
   "cell_type": "code",
   "execution_count": 3,
   "metadata": {
    "ExecuteTime": {
     "end_time": "2020-03-20T06:49:12.489983Z",
     "start_time": "2020-03-20T06:49:11.159040Z"
    }
   },
   "outputs": [
    {
     "name": "stderr",
     "output_type": "stream",
     "text": [
      "/Users/sabrinaho/anaconda3/lib/python3.7/site-packages/IPython/core/interactiveshell.py:3057: DtypeWarning: Columns (7,19,20,21,22,26,27,30,31,32,33) have mixed types. Specify dtype option on import or set low_memory=False.\n",
      "  interactivity=interactivity, compiler=compiler, result=result)\n"
     ]
    },
    {
     "data": {
      "text/html": [
       "<div>\n",
       "<style scoped>\n",
       "    .dataframe tbody tr th:only-of-type {\n",
       "        vertical-align: middle;\n",
       "    }\n",
       "\n",
       "    .dataframe tbody tr th {\n",
       "        vertical-align: top;\n",
       "    }\n",
       "\n",
       "    .dataframe thead th {\n",
       "        text-align: right;\n",
       "    }\n",
       "</style>\n",
       "<table border=\"1\" class=\"dataframe\">\n",
       "  <thead>\n",
       "    <tr style=\"text-align: right;\">\n",
       "      <th></th>\n",
       "      <th>YearStart</th>\n",
       "      <th>YearEnd</th>\n",
       "      <th>LocationAbbr</th>\n",
       "      <th>LocationDesc</th>\n",
       "      <th>DataSource</th>\n",
       "      <th>Topic</th>\n",
       "      <th>Question</th>\n",
       "      <th>Response</th>\n",
       "      <th>DataValueUnit</th>\n",
       "      <th>DataValueTypeID</th>\n",
       "      <th>...</th>\n",
       "      <th>TopicID</th>\n",
       "      <th>QuestionID</th>\n",
       "      <th>ResponseID</th>\n",
       "      <th>LocationID</th>\n",
       "      <th>StratificationCategoryID1</th>\n",
       "      <th>StratificationID1</th>\n",
       "      <th>StratificationCategoryID2</th>\n",
       "      <th>StratificationID2</th>\n",
       "      <th>StratificationCategoryID3</th>\n",
       "      <th>StratificationID3</th>\n",
       "    </tr>\n",
       "  </thead>\n",
       "  <tbody>\n",
       "    <tr>\n",
       "      <th>0</th>\n",
       "      <td>2013</td>\n",
       "      <td>2013</td>\n",
       "      <td>CA</td>\n",
       "      <td>California</td>\n",
       "      <td>YRBSS</td>\n",
       "      <td>Alcohol</td>\n",
       "      <td>Alcohol use among youth</td>\n",
       "      <td>NaN</td>\n",
       "      <td>%</td>\n",
       "      <td>CrdPrev</td>\n",
       "      <td>...</td>\n",
       "      <td>ALC</td>\n",
       "      <td>ALC1_1</td>\n",
       "      <td>NaN</td>\n",
       "      <td>6</td>\n",
       "      <td>OVERALL</td>\n",
       "      <td>OVR</td>\n",
       "      <td>NaN</td>\n",
       "      <td>NaN</td>\n",
       "      <td>NaN</td>\n",
       "      <td>NaN</td>\n",
       "    </tr>\n",
       "    <tr>\n",
       "      <th>1</th>\n",
       "      <td>2013</td>\n",
       "      <td>2013</td>\n",
       "      <td>CO</td>\n",
       "      <td>Colorado</td>\n",
       "      <td>YRBSS</td>\n",
       "      <td>Alcohol</td>\n",
       "      <td>Alcohol use among youth</td>\n",
       "      <td>NaN</td>\n",
       "      <td>%</td>\n",
       "      <td>CrdPrev</td>\n",
       "      <td>...</td>\n",
       "      <td>ALC</td>\n",
       "      <td>ALC1_1</td>\n",
       "      <td>NaN</td>\n",
       "      <td>8</td>\n",
       "      <td>OVERALL</td>\n",
       "      <td>OVR</td>\n",
       "      <td>NaN</td>\n",
       "      <td>NaN</td>\n",
       "      <td>NaN</td>\n",
       "      <td>NaN</td>\n",
       "    </tr>\n",
       "    <tr>\n",
       "      <th>2</th>\n",
       "      <td>2013</td>\n",
       "      <td>2013</td>\n",
       "      <td>CT</td>\n",
       "      <td>Connecticut</td>\n",
       "      <td>YRBSS</td>\n",
       "      <td>Alcohol</td>\n",
       "      <td>Alcohol use among youth</td>\n",
       "      <td>NaN</td>\n",
       "      <td>%</td>\n",
       "      <td>CrdPrev</td>\n",
       "      <td>...</td>\n",
       "      <td>ALC</td>\n",
       "      <td>ALC1_1</td>\n",
       "      <td>NaN</td>\n",
       "      <td>9</td>\n",
       "      <td>OVERALL</td>\n",
       "      <td>OVR</td>\n",
       "      <td>NaN</td>\n",
       "      <td>NaN</td>\n",
       "      <td>NaN</td>\n",
       "      <td>NaN</td>\n",
       "    </tr>\n",
       "    <tr>\n",
       "      <th>3</th>\n",
       "      <td>2013</td>\n",
       "      <td>2013</td>\n",
       "      <td>DC</td>\n",
       "      <td>District of Columbia</td>\n",
       "      <td>YRBSS</td>\n",
       "      <td>Alcohol</td>\n",
       "      <td>Alcohol use among youth</td>\n",
       "      <td>NaN</td>\n",
       "      <td>%</td>\n",
       "      <td>CrdPrev</td>\n",
       "      <td>...</td>\n",
       "      <td>ALC</td>\n",
       "      <td>ALC1_1</td>\n",
       "      <td>NaN</td>\n",
       "      <td>11</td>\n",
       "      <td>OVERALL</td>\n",
       "      <td>OVR</td>\n",
       "      <td>NaN</td>\n",
       "      <td>NaN</td>\n",
       "      <td>NaN</td>\n",
       "      <td>NaN</td>\n",
       "    </tr>\n",
       "    <tr>\n",
       "      <th>4</th>\n",
       "      <td>2013</td>\n",
       "      <td>2013</td>\n",
       "      <td>DE</td>\n",
       "      <td>Delaware</td>\n",
       "      <td>YRBSS</td>\n",
       "      <td>Alcohol</td>\n",
       "      <td>Alcohol use among youth</td>\n",
       "      <td>NaN</td>\n",
       "      <td>%</td>\n",
       "      <td>CrdPrev</td>\n",
       "      <td>...</td>\n",
       "      <td>ALC</td>\n",
       "      <td>ALC1_1</td>\n",
       "      <td>NaN</td>\n",
       "      <td>10</td>\n",
       "      <td>OVERALL</td>\n",
       "      <td>OVR</td>\n",
       "      <td>NaN</td>\n",
       "      <td>NaN</td>\n",
       "      <td>NaN</td>\n",
       "      <td>NaN</td>\n",
       "    </tr>\n",
       "  </tbody>\n",
       "</table>\n",
       "<p>5 rows × 34 columns</p>\n",
       "</div>"
      ],
      "text/plain": [
       "   YearStart  YearEnd LocationAbbr          LocationDesc DataSource    Topic  \\\n",
       "0       2013     2013           CA            California      YRBSS  Alcohol   \n",
       "1       2013     2013           CO              Colorado      YRBSS  Alcohol   \n",
       "2       2013     2013           CT           Connecticut      YRBSS  Alcohol   \n",
       "3       2013     2013           DC  District of Columbia      YRBSS  Alcohol   \n",
       "4       2013     2013           DE              Delaware      YRBSS  Alcohol   \n",
       "\n",
       "                  Question Response DataValueUnit DataValueTypeID  ...  \\\n",
       "0  Alcohol use among youth      NaN             %         CrdPrev  ...   \n",
       "1  Alcohol use among youth      NaN             %         CrdPrev  ...   \n",
       "2  Alcohol use among youth      NaN             %         CrdPrev  ...   \n",
       "3  Alcohol use among youth      NaN             %         CrdPrev  ...   \n",
       "4  Alcohol use among youth      NaN             %         CrdPrev  ...   \n",
       "\n",
       "  TopicID QuestionID  ResponseID LocationID StratificationCategoryID1  \\\n",
       "0     ALC     ALC1_1         NaN          6                   OVERALL   \n",
       "1     ALC     ALC1_1         NaN          8                   OVERALL   \n",
       "2     ALC     ALC1_1         NaN          9                   OVERALL   \n",
       "3     ALC     ALC1_1         NaN         11                   OVERALL   \n",
       "4     ALC     ALC1_1         NaN         10                   OVERALL   \n",
       "\n",
       "   StratificationID1  StratificationCategoryID2 StratificationID2  \\\n",
       "0                OVR                        NaN               NaN   \n",
       "1                OVR                        NaN               NaN   \n",
       "2                OVR                        NaN               NaN   \n",
       "3                OVR                        NaN               NaN   \n",
       "4                OVR                        NaN               NaN   \n",
       "\n",
       "  StratificationCategoryID3 StratificationID3  \n",
       "0                       NaN               NaN  \n",
       "1                       NaN               NaN  \n",
       "2                       NaN               NaN  \n",
       "3                       NaN               NaN  \n",
       "4                       NaN               NaN  \n",
       "\n",
       "[5 rows x 34 columns]"
      ]
     },
     "execution_count": 3,
     "metadata": {},
     "output_type": "execute_result"
    }
   ],
   "source": [
    "#df2\n",
    "cdi_fp = 'data/U.S._Chronic_Disease_Indicators__CDI_.csv'\n",
    "cdi_df = pd.read_csv(cdi_fp, sep=',')\n",
    "cdi_df.head()"
   ]
  },
  {
   "cell_type": "code",
   "execution_count": 4,
   "metadata": {
    "ExecuteTime": {
     "end_time": "2020-03-20T06:49:12.582979Z",
     "start_time": "2020-03-20T06:49:12.492900Z"
    }
   },
   "outputs": [
    {
     "data": {
      "text/html": [
       "<div>\n",
       "<style scoped>\n",
       "    .dataframe tbody tr th:only-of-type {\n",
       "        vertical-align: middle;\n",
       "    }\n",
       "\n",
       "    .dataframe tbody tr th {\n",
       "        vertical-align: top;\n",
       "    }\n",
       "\n",
       "    .dataframe thead th {\n",
       "        text-align: right;\n",
       "    }\n",
       "</style>\n",
       "<table border=\"1\" class=\"dataframe\">\n",
       "  <thead>\n",
       "    <tr style=\"text-align: right;\">\n",
       "      <th></th>\n",
       "      <th>Entity</th>\n",
       "      <th>Code</th>\n",
       "      <th>Year</th>\n",
       "      <th>Unsafe water source (deaths)</th>\n",
       "      <th>Poor sanitation (deaths)</th>\n",
       "      <th>No access to handwashing facility (deaths)</th>\n",
       "      <th>Indoor air pollution (deaths)</th>\n",
       "      <th>Non-exclusive breastfeeding (deaths)</th>\n",
       "      <th>Discontinued breastfeeding (deaths)</th>\n",
       "      <th>Child wasting (deaths)</th>\n",
       "      <th>...</th>\n",
       "      <th>Air pollution (outdoor &amp; indoor) (deaths)</th>\n",
       "      <th>Outdoor air pollution (deaths)</th>\n",
       "      <th>Diet low in fiber (deaths)</th>\n",
       "      <th>Diet high in sodium (deaths)</th>\n",
       "      <th>Diet low in legumes (deaths)</th>\n",
       "      <th>Diet low in calcium (deaths)</th>\n",
       "      <th>Diet high in red meat (deaths)</th>\n",
       "      <th>Diet low in whole grains (deaths)</th>\n",
       "      <th>Diet low in nuts and seeds (deaths)</th>\n",
       "      <th>Diet low in seafood omega-3 fatty acids (deaths)</th>\n",
       "    </tr>\n",
       "  </thead>\n",
       "  <tbody>\n",
       "    <tr>\n",
       "      <th>0</th>\n",
       "      <td>Afghanistan</td>\n",
       "      <td>AFG</td>\n",
       "      <td>1990</td>\n",
       "      <td>7554.049543</td>\n",
       "      <td>5887.747628</td>\n",
       "      <td>5412.314513</td>\n",
       "      <td>22388.497233</td>\n",
       "      <td>3221.138842</td>\n",
       "      <td>156.097553</td>\n",
       "      <td>22778.849249</td>\n",
       "      <td>...</td>\n",
       "      <td>26598.006727</td>\n",
       "      <td>4383.83</td>\n",
       "      <td>2864.234512</td>\n",
       "      <td>2737.197934</td>\n",
       "      <td>3418.965194</td>\n",
       "      <td>181.287701</td>\n",
       "      <td>0.220484</td>\n",
       "      <td>11381.377345</td>\n",
       "      <td>7299.867330</td>\n",
       "      <td>6456.565238</td>\n",
       "    </tr>\n",
       "    <tr>\n",
       "      <th>1</th>\n",
       "      <td>Afghanistan</td>\n",
       "      <td>AFG</td>\n",
       "      <td>1991</td>\n",
       "      <td>7359.676749</td>\n",
       "      <td>5732.770160</td>\n",
       "      <td>5287.891103</td>\n",
       "      <td>22128.758206</td>\n",
       "      <td>3150.559597</td>\n",
       "      <td>151.539851</td>\n",
       "      <td>22292.691113</td>\n",
       "      <td>...</td>\n",
       "      <td>26379.532218</td>\n",
       "      <td>4426.36</td>\n",
       "      <td>2974.479775</td>\n",
       "      <td>2741.184956</td>\n",
       "      <td>3457.398250</td>\n",
       "      <td>184.251584</td>\n",
       "      <td>0.184714</td>\n",
       "      <td>11487.832390</td>\n",
       "      <td>7386.764303</td>\n",
       "      <td>6511.344276</td>\n",
       "    </tr>\n",
       "    <tr>\n",
       "      <th>2</th>\n",
       "      <td>Afghanistan</td>\n",
       "      <td>AFG</td>\n",
       "      <td>1992</td>\n",
       "      <td>7650.437822</td>\n",
       "      <td>5954.804987</td>\n",
       "      <td>5506.657363</td>\n",
       "      <td>22873.768789</td>\n",
       "      <td>3331.349048</td>\n",
       "      <td>156.609194</td>\n",
       "      <td>23102.197940</td>\n",
       "      <td>...</td>\n",
       "      <td>27263.127914</td>\n",
       "      <td>4568.91</td>\n",
       "      <td>3168.591633</td>\n",
       "      <td>2798.560245</td>\n",
       "      <td>3586.490291</td>\n",
       "      <td>191.318450</td>\n",
       "      <td>0.151354</td>\n",
       "      <td>11866.235572</td>\n",
       "      <td>7640.628526</td>\n",
       "      <td>6703.095594</td>\n",
       "    </tr>\n",
       "    <tr>\n",
       "      <th>3</th>\n",
       "      <td>Afghanistan</td>\n",
       "      <td>AFG</td>\n",
       "      <td>1993</td>\n",
       "      <td>10270.731383</td>\n",
       "      <td>7986.736613</td>\n",
       "      <td>7104.620351</td>\n",
       "      <td>25599.756284</td>\n",
       "      <td>4477.006100</td>\n",
       "      <td>206.834451</td>\n",
       "      <td>27902.669960</td>\n",
       "      <td>...</td>\n",
       "      <td>30495.561499</td>\n",
       "      <td>5080.29</td>\n",
       "      <td>3401.045056</td>\n",
       "      <td>2853.301679</td>\n",
       "      <td>3746.266658</td>\n",
       "      <td>199.767293</td>\n",
       "      <td>0.109392</td>\n",
       "      <td>12335.961682</td>\n",
       "      <td>7968.311853</td>\n",
       "      <td>6946.196824</td>\n",
       "    </tr>\n",
       "    <tr>\n",
       "      <th>4</th>\n",
       "      <td>Afghanistan</td>\n",
       "      <td>AFG</td>\n",
       "      <td>1994</td>\n",
       "      <td>11409.177112</td>\n",
       "      <td>8863.010065</td>\n",
       "      <td>8051.515953</td>\n",
       "      <td>28013.167200</td>\n",
       "      <td>5102.622054</td>\n",
       "      <td>233.930571</td>\n",
       "      <td>32929.005932</td>\n",
       "      <td>...</td>\n",
       "      <td>33323.161401</td>\n",
       "      <td>5499.23</td>\n",
       "      <td>3599.709735</td>\n",
       "      <td>2880.025765</td>\n",
       "      <td>3869.288402</td>\n",
       "      <td>206.619714</td>\n",
       "      <td>0.059103</td>\n",
       "      <td>12672.950191</td>\n",
       "      <td>8244.368430</td>\n",
       "      <td>7138.030745</td>\n",
       "    </tr>\n",
       "  </tbody>\n",
       "</table>\n",
       "<p>5 rows × 38 columns</p>\n",
       "</div>"
      ],
      "text/plain": [
       "        Entity Code  Year  Unsafe water source (deaths)  \\\n",
       "0  Afghanistan  AFG  1990                   7554.049543   \n",
       "1  Afghanistan  AFG  1991                   7359.676749   \n",
       "2  Afghanistan  AFG  1992                   7650.437822   \n",
       "3  Afghanistan  AFG  1993                  10270.731383   \n",
       "4  Afghanistan  AFG  1994                  11409.177112   \n",
       "\n",
       "   Poor sanitation (deaths)  No access to handwashing facility (deaths)  \\\n",
       "0               5887.747628                                 5412.314513   \n",
       "1               5732.770160                                 5287.891103   \n",
       "2               5954.804987                                 5506.657363   \n",
       "3               7986.736613                                 7104.620351   \n",
       "4               8863.010065                                 8051.515953   \n",
       "\n",
       "   Indoor air pollution (deaths)  Non-exclusive breastfeeding (deaths)  \\\n",
       "0                   22388.497233                           3221.138842   \n",
       "1                   22128.758206                           3150.559597   \n",
       "2                   22873.768789                           3331.349048   \n",
       "3                   25599.756284                           4477.006100   \n",
       "4                   28013.167200                           5102.622054   \n",
       "\n",
       "   Discontinued breastfeeding (deaths)  Child wasting (deaths)  ...  \\\n",
       "0                           156.097553            22778.849249  ...   \n",
       "1                           151.539851            22292.691113  ...   \n",
       "2                           156.609194            23102.197940  ...   \n",
       "3                           206.834451            27902.669960  ...   \n",
       "4                           233.930571            32929.005932  ...   \n",
       "\n",
       "   Air pollution (outdoor & indoor) (deaths)  Outdoor air pollution (deaths)  \\\n",
       "0                               26598.006727                         4383.83   \n",
       "1                               26379.532218                         4426.36   \n",
       "2                               27263.127914                         4568.91   \n",
       "3                               30495.561499                         5080.29   \n",
       "4                               33323.161401                         5499.23   \n",
       "\n",
       "   Diet low in fiber (deaths)  Diet high in sodium (deaths)  \\\n",
       "0                 2864.234512                   2737.197934   \n",
       "1                 2974.479775                   2741.184956   \n",
       "2                 3168.591633                   2798.560245   \n",
       "3                 3401.045056                   2853.301679   \n",
       "4                 3599.709735                   2880.025765   \n",
       "\n",
       "   Diet low in legumes (deaths)  Diet low in calcium (deaths)  \\\n",
       "0                   3418.965194                    181.287701   \n",
       "1                   3457.398250                    184.251584   \n",
       "2                   3586.490291                    191.318450   \n",
       "3                   3746.266658                    199.767293   \n",
       "4                   3869.288402                    206.619714   \n",
       "\n",
       "   Diet high in red meat (deaths)  Diet low in whole grains (deaths)  \\\n",
       "0                        0.220484                       11381.377345   \n",
       "1                        0.184714                       11487.832390   \n",
       "2                        0.151354                       11866.235572   \n",
       "3                        0.109392                       12335.961682   \n",
       "4                        0.059103                       12672.950191   \n",
       "\n",
       "   Diet low in nuts and seeds (deaths)  \\\n",
       "0                          7299.867330   \n",
       "1                          7386.764303   \n",
       "2                          7640.628526   \n",
       "3                          7968.311853   \n",
       "4                          8244.368430   \n",
       "\n",
       "   Diet low in seafood omega-3 fatty acids (deaths)  \n",
       "0                                       6456.565238  \n",
       "1                                       6511.344276  \n",
       "2                                       6703.095594  \n",
       "3                                       6946.196824  \n",
       "4                                       7138.030745  \n",
       "\n",
       "[5 rows x 38 columns]"
      ]
     },
     "execution_count": 4,
     "metadata": {},
     "output_type": "execute_result"
    }
   ],
   "source": [
    "#df3\n",
    "num_deaths = pd.read_csv('data/NumberofDeaths.csv')\n",
    "rates_deaths = pd.read_csv('data/AlcoholDeathRates.csv')\n",
    "num_deaths.head()"
   ]
  },
  {
   "cell_type": "code",
   "execution_count": 5,
   "metadata": {
    "ExecuteTime": {
     "end_time": "2020-03-20T06:49:12.593367Z",
     "start_time": "2020-03-20T06:49:12.585275Z"
    }
   },
   "outputs": [
    {
     "data": {
      "text/html": [
       "<div>\n",
       "<style scoped>\n",
       "    .dataframe tbody tr th:only-of-type {\n",
       "        vertical-align: middle;\n",
       "    }\n",
       "\n",
       "    .dataframe tbody tr th {\n",
       "        vertical-align: top;\n",
       "    }\n",
       "\n",
       "    .dataframe thead th {\n",
       "        text-align: right;\n",
       "    }\n",
       "</style>\n",
       "<table border=\"1\" class=\"dataframe\">\n",
       "  <thead>\n",
       "    <tr style=\"text-align: right;\">\n",
       "      <th></th>\n",
       "      <th>Entity</th>\n",
       "      <th>Code</th>\n",
       "      <th>Year</th>\n",
       "      <th>Deaths - Alcohol use - Sex: Both - Age: Age-standardized (Rate) (Rate)</th>\n",
       "    </tr>\n",
       "  </thead>\n",
       "  <tbody>\n",
       "    <tr>\n",
       "      <th>0</th>\n",
       "      <td>Afghanistan</td>\n",
       "      <td>AFG</td>\n",
       "      <td>1990</td>\n",
       "      <td>4.527867</td>\n",
       "    </tr>\n",
       "    <tr>\n",
       "      <th>1</th>\n",
       "      <td>Afghanistan</td>\n",
       "      <td>AFG</td>\n",
       "      <td>1991</td>\n",
       "      <td>3.969239</td>\n",
       "    </tr>\n",
       "    <tr>\n",
       "      <th>2</th>\n",
       "      <td>Afghanistan</td>\n",
       "      <td>AFG</td>\n",
       "      <td>1992</td>\n",
       "      <td>3.164372</td>\n",
       "    </tr>\n",
       "    <tr>\n",
       "      <th>3</th>\n",
       "      <td>Afghanistan</td>\n",
       "      <td>AFG</td>\n",
       "      <td>1993</td>\n",
       "      <td>2.561800</td>\n",
       "    </tr>\n",
       "    <tr>\n",
       "      <th>4</th>\n",
       "      <td>Afghanistan</td>\n",
       "      <td>AFG</td>\n",
       "      <td>1994</td>\n",
       "      <td>2.123057</td>\n",
       "    </tr>\n",
       "  </tbody>\n",
       "</table>\n",
       "</div>"
      ],
      "text/plain": [
       "        Entity Code  Year  \\\n",
       "0  Afghanistan  AFG  1990   \n",
       "1  Afghanistan  AFG  1991   \n",
       "2  Afghanistan  AFG  1992   \n",
       "3  Afghanistan  AFG  1993   \n",
       "4  Afghanistan  AFG  1994   \n",
       "\n",
       "   Deaths - Alcohol use - Sex: Both - Age: Age-standardized (Rate) (Rate)  \n",
       "0                                           4.527867                       \n",
       "1                                           3.969239                       \n",
       "2                                           3.164372                       \n",
       "3                                           2.561800                       \n",
       "4                                           2.123057                       "
      ]
     },
     "execution_count": 5,
     "metadata": {},
     "output_type": "execute_result"
    }
   ],
   "source": [
    "rates_deaths.head()"
   ]
  },
  {
   "cell_type": "markdown",
   "metadata": {},
   "source": [
    "# Data Cleaning"
   ]
  },
  {
   "cell_type": "code",
   "execution_count": 6,
   "metadata": {
    "ExecuteTime": {
     "end_time": "2020-03-20T06:49:12.600035Z",
     "start_time": "2020-03-20T06:49:12.595562Z"
    }
   },
   "outputs": [],
   "source": [
    "# select columns we need\n",
    "le_df = le_df[['Country', 'Year', 'Life expectancy ', 'Adult Mortality', 'Alcohol']]\n",
    "# rename columns since some columns names consist of spaces \n",
    "le_df.columns = ['country', 'year', 'life_expectancy', 'adult_mortality', 'alcohol']"
   ]
  },
  {
   "cell_type": "code",
   "execution_count": 7,
   "metadata": {
    "ExecuteTime": {
     "end_time": "2020-03-20T06:49:12.847228Z",
     "start_time": "2020-03-20T06:49:12.602211Z"
    }
   },
   "outputs": [],
   "source": [
    "# select only the rows related to alcohol\n",
    "cdi_df.drop(cdi_df[cdi_df.Topic != 'Alcohol'].index, inplace = True)\n",
    "# within the rows related to alcohol, drop the irrelevant rows \n",
    "cdi_df.drop(cdi_df[cdi_df.Question == 'Local authority to regulate alcohol outlet density'].index, inplace = True)\n",
    "cdi_df.drop(cdi_df[cdi_df.Question == 'Amount of alcohol excise tax by beverage type (beer)'].index, inplace = True)\n",
    "cdi_df.drop(cdi_df[cdi_df.Question == 'Amount of alcohol excise tax by beverage type (wine)'].index, inplace = True)\n",
    "cdi_df.drop(cdi_df[cdi_df.Question == 'Amount of alcohol excise tax by beverage type (distilled spirits)'].index, inplace = True)\n",
    "cdi_df.drop(cdi_df[cdi_df.Question == 'Commercial host (dram shop) liability laws'].index, inplace = True)\n",
    "# drop all data values that are null\n",
    "cdi_df.dropna(subset = ['DataValue'], inplace = True)\n",
    "# select only the columns we're interested in\n",
    "cdi_df = cdi_df.drop(columns = ['LocationAbbr', 'DataValueTypeID', 'DataValueFootnoteSymbol', 'GeoLocation', 'TopicID', 'QuestionID', 'ResponseID', 'LocationID', 'StratificationCategoryID1', 'StratificationID1', 'StratificationCategoryID2', 'StratificationCategoryID3', 'StratificationID3', 'StratificationID2', 'Stratification2', 'StratificationCategory2', 'Stratification3', 'StratificationCategory3', 'Response', 'DataValueAlt', 'DatavalueFootnote', 'Topic', 'StratificationCategory1'])"
   ]
  },
  {
   "cell_type": "code",
   "execution_count": 8,
   "metadata": {
    "ExecuteTime": {
     "end_time": "2020-03-20T06:49:12.865384Z",
     "start_time": "2020-03-20T06:49:12.856799Z"
    }
   },
   "outputs": [],
   "source": [
    "#merge num_deaths and rates_deaths\n",
    "num_deaths = num_deaths[['Entity', 'Year', 'Alcohol use (deaths)']]\n",
    "rates_deaths = rates_deaths[['Entity', 'Year', 'Deaths - Alcohol use - Sex: Both - Age: Age-standardized (Rate) (Rate)']]"
   ]
  },
  {
   "cell_type": "code",
   "execution_count": 9,
   "metadata": {
    "ExecuteTime": {
     "end_time": "2020-03-20T06:49:13.686817Z",
     "start_time": "2020-03-20T06:49:12.872657Z"
    }
   },
   "outputs": [
    {
     "data": {
      "text/html": [
       "<div>\n",
       "<style scoped>\n",
       "    .dataframe tbody tr th:only-of-type {\n",
       "        vertical-align: middle;\n",
       "    }\n",
       "\n",
       "    .dataframe tbody tr th {\n",
       "        vertical-align: top;\n",
       "    }\n",
       "\n",
       "    .dataframe thead th {\n",
       "        text-align: right;\n",
       "    }\n",
       "</style>\n",
       "<table border=\"1\" class=\"dataframe\">\n",
       "  <thead>\n",
       "    <tr style=\"text-align: right;\">\n",
       "      <th></th>\n",
       "      <th>Country</th>\n",
       "      <th>Year</th>\n",
       "      <th>Number of Deaths</th>\n",
       "      <th>Death Rates</th>\n",
       "    </tr>\n",
       "  </thead>\n",
       "  <tbody>\n",
       "    <tr>\n",
       "      <th>0</th>\n",
       "      <td>Afghanistan</td>\n",
       "      <td>1990</td>\n",
       "      <td>356.529307</td>\n",
       "      <td>4.527867</td>\n",
       "    </tr>\n",
       "    <tr>\n",
       "      <th>1</th>\n",
       "      <td>Afghanistan</td>\n",
       "      <td>1991</td>\n",
       "      <td>320.598461</td>\n",
       "      <td>3.969239</td>\n",
       "    </tr>\n",
       "    <tr>\n",
       "      <th>2</th>\n",
       "      <td>Afghanistan</td>\n",
       "      <td>1992</td>\n",
       "      <td>293.257016</td>\n",
       "      <td>3.164372</td>\n",
       "    </tr>\n",
       "    <tr>\n",
       "      <th>3</th>\n",
       "      <td>Afghanistan</td>\n",
       "      <td>1993</td>\n",
       "      <td>278.129758</td>\n",
       "      <td>2.561800</td>\n",
       "    </tr>\n",
       "    <tr>\n",
       "      <th>4</th>\n",
       "      <td>Afghanistan</td>\n",
       "      <td>1994</td>\n",
       "      <td>250.691569</td>\n",
       "      <td>2.123057</td>\n",
       "    </tr>\n",
       "  </tbody>\n",
       "</table>\n",
       "</div>"
      ],
      "text/plain": [
       "       Country  Year  Number of Deaths  Death Rates\n",
       "0  Afghanistan  1990        356.529307     4.527867\n",
       "1  Afghanistan  1991        320.598461     3.969239\n",
       "2  Afghanistan  1992        293.257016     3.164372\n",
       "3  Afghanistan  1993        278.129758     2.561800\n",
       "4  Afghanistan  1994        250.691569     2.123057"
      ]
     },
     "execution_count": 9,
     "metadata": {},
     "output_type": "execute_result"
    }
   ],
   "source": [
    "df3 = num_deaths.merge(rates_deaths, how = 'outer', on = ['Entity', 'Year'])\n",
    "df3 = df3.rename(columns = {'Entity':'Country', 'Deaths - Alcohol use - Sex: Both - Age: Age-standardized (Rate) (Rate)': 'Death Rates', 'Alcohol use (deaths)': 'Number of Deaths'})\n",
    "countries = ['Afghanistan', 'Albania', 'Algeria', 'American Samoa',\n",
    "       'Andorra', 'Angola', 'Antigua and Barbuda',\n",
    "       'Argentina', 'Armenia', 'Australia', 'Austria',\n",
    "       'Azerbaijan', 'Bahamas', 'Bahrain', 'Bangladesh', 'Barbados',\n",
    "       'Belarus', 'Belgium', 'Belize', 'Benin', 'Bermuda', 'Bhutan',\n",
    "       'Bolivia', 'Bosnia and Herzegovina', 'Botswana', 'Brazil',\n",
    "       'Brunei', 'Bulgaria', 'Burkina Faso', 'Burundi', 'Cambodia',\n",
    "       'Cameroon', 'Canada', 'Cape Verde', 'Caribbean',\n",
    "       'Chad',\n",
    "       'Chile', 'China', 'Colombia', 'Comoros', 'Congo', 'Costa Rica',\n",
    "       \"Cote d'Ivoire\", 'Croatia', 'Cuba', 'Cyprus', 'Czech Republic',\n",
    "       'Democratic Republic of Congo', 'Denmark', 'Djibouti', 'Dominica',\n",
    "       'Dominican Republic', 'Ecuador', 'Egypt', 'El Salvador',\n",
    "       'England', 'Equatorial Guinea', 'Eritrea', 'Estonia', 'Ethiopia',\n",
    "       'Fiji', 'Finland', 'France', 'Gabon', 'Gambia', 'Georgia',\n",
    "       'Germany', 'Ghana', 'Greece', 'Greenland', 'Grenada', 'Guam',\n",
    "       'Guatemala', 'Guinea', 'Guinea-Bissau', 'Guyana', 'Haiti',\n",
    "       'Honduras', 'Hungary', 'Iceland', 'India',\n",
    "       'Indonesia', 'Iran', 'Iraq', 'Ireland', 'Israel', 'Italy',\n",
    "       'Jamaica', 'Japan', 'Jordan', 'Kazakhstan', 'Kenya', 'Kiribati',\n",
    "       'Kuwait', 'Kyrgyzstan', 'Laos',\n",
    "       'Latvia', 'Lebanon', 'Lesotho', 'Liberia', 'Libya', 'Lithuania',\n",
    "       'Luxembourg', 'Macedonia',\n",
    "       'Madagascar', 'Malawi', 'Malaysia', 'Maldives', 'Mali', 'Malta',\n",
    "       'Marshall Islands', 'Mauritania', 'Mauritius', 'Mexico',\n",
    "       'Micronesia (country)', 'Moldova', 'Mongolia',\n",
    "       'Montenegro', 'Morocco', 'Mozambique', 'Myanmar', 'Namibia',\n",
    "       'Nepal', 'Netherlands', 'New Zealand', 'Nicaragua', 'Niger',\n",
    "       'Nigeria',\n",
    "       'North Korea', 'Northern Ireland', 'Northern Mariana Islands',\n",
    "       'Norway', 'Oceania', 'Oman', 'Pakistan', 'Palestine', 'Panama',\n",
    "       'Papua New Guinea', 'Paraguay', 'Peru', 'Philippines', 'Poland',\n",
    "       'Portugal', 'Puerto Rico', 'Qatar', 'Romania', 'Russia', 'Rwanda',\n",
    "       'Saint Lucia', 'Saint Vincent and the Grenadines', 'Samoa',\n",
    "       'Sao Tome and Principe', 'Saudi Arabia', 'Scotland', 'Senegal',\n",
    "       'Serbia', 'Seychelles', 'Sierra Leone', 'Singapore', 'Slovakia',\n",
    "       'Slovenia', 'Solomon Islands', 'Somalia', 'South Africa',\n",
    "       'South Korea', 'South Sudan', 'Spain', 'Sri Lanka',\n",
    "       'Sudan', 'Suriname', 'Swaziland', 'Sweden',\n",
    "       'Switzerland', 'Syria', 'Taiwan', 'Tajikistan', 'Tanzania',\n",
    "       'Thailand', 'Timor', 'Togo', 'Tonga', 'Trinidad and Tobago',\n",
    "       'Tunisia', 'Turkey', 'Turkmenistan',\n",
    "       'Uganda', 'Ukraine', 'United Arab Emirates', 'United Kingdom',\n",
    "       'United States', 'United States Virgin Islands', 'Uruguay',\n",
    "       'Uzbekistan', 'Vanuatu', 'Venezuela', 'Vietnam', 'Wales',\n",
    "       'Yemen',\n",
    "       'Zambia', 'Zimbabwe']\n",
    "for i in range(len(df3)):\n",
    "    if df3['Country'][i] not in countries:\n",
    "        df3 = df3.drop(i)\n",
    "df3 = df3.reset_index(drop = True)\n",
    "df3.head()"
   ]
  },
  {
   "cell_type": "code",
   "execution_count": null,
   "metadata": {},
   "outputs": [],
   "source": []
  },
  {
   "cell_type": "markdown",
   "metadata": {},
   "source": [
    "# Data Analysis & Results"
   ]
  },
  {
   "cell_type": "markdown",
   "metadata": {},
   "source": [
    "Include cells that describe the steps in your data analysis."
   ]
  },
  {
   "cell_type": "markdown",
   "metadata": {},
   "source": [
    "### Analysis on Life Expectancy dataset"
   ]
  },
  {
   "cell_type": "code",
   "execution_count": 42,
   "metadata": {
    "ExecuteTime": {
     "end_time": "2020-03-20T06:53:35.575644Z",
     "start_time": "2020-03-20T06:53:35.564380Z"
    }
   },
   "outputs": [],
   "source": [
    "# group by countries\n",
    "le = le_df.groupby('country')[['life_expectancy', 'alcohol']].agg('mean')\n",
    "le_lst = le['life_expectancy'].sort_values(ascending=True).head(96).index.tolist()\n",
    "alc_lst = le['alcohol'].sort_values(ascending=False).head(96).index.tolist()\n",
    "yes = [i for i in le_lst if i in alc_lst]\n",
    "to_plot = le.loc[yes]"
   ]
  },
  {
   "cell_type": "markdown",
   "metadata": {},
   "source": [
    "The graph below shows the 10 countries that have the lowest life expectancy rate"
   ]
  },
  {
   "cell_type": "code",
   "execution_count": 11,
   "metadata": {
    "ExecuteTime": {
     "end_time": "2020-03-20T06:49:13.887646Z",
     "start_time": "2020-03-20T06:49:13.700891Z"
    },
    "scrolled": true
   },
   "outputs": [
    {
     "data": {
      "text/plain": [
       "Text(0.5, 1.0, 'top 10 countries with low life expectancy rate')"
      ]
     },
     "execution_count": 11,
     "metadata": {},
     "output_type": "execute_result"
    },
    {
     "data": {
      "image/png": "[encoded data removed]",
      "text/plain": [
       "<Figure size 432x288 with 1 Axes>"
      ]
     },
     "metadata": {
      "needs_background": "light"
     },
     "output_type": "display_data"
    }
   ],
   "source": [
    "le_top10 = le['life_expectancy'].sort_values(ascending=True).head(10)\n",
    "plt.plot(le_top10)\n",
    "plt.xticks(rotation=90)\n",
    "plt.xlabel('country')\n",
    "plt.ylabel('life expectancy rate')\n",
    "plt.title('top 10 countries with low life expectancy rate')"
   ]
  },
  {
   "cell_type": "markdown",
   "metadata": {},
   "source": [
    "The graph below shows the 10 countries with highest alcohol consumption rate"
   ]
  },
  {
   "cell_type": "code",
   "execution_count": 12,
   "metadata": {
    "ExecuteTime": {
     "end_time": "2020-03-20T06:49:14.046495Z",
     "start_time": "2020-03-20T06:49:13.889905Z"
    }
   },
   "outputs": [
    {
     "data": {
      "text/plain": [
       "Text(0.5, 1.0, 'top 10 countries with high alcohol consumption rate')"
      ]
     },
     "execution_count": 12,
     "metadata": {},
     "output_type": "execute_result"
    },
    {
     "data": {
      "image/png": "[encoded data removed]",
      "text/plain": [
       "<Figure size 432x288 with 1 Axes>"
      ]
     },
     "metadata": {
      "needs_background": "light"
     },
     "output_type": "display_data"
    }
   ],
   "source": [
    "alc_top10 = le['alcohol'].sort_values(ascending=False).head(10)\n",
    "plt.plot(alc_top10)\n",
    "plt.xticks(rotation=90)\n",
    "plt.xlabel('country')\n",
    "plt.ylabel('alcohol consumption rate')\n",
    "plt.title('top 10 countries with high alcohol consumption rate')"
   ]
  },
  {
   "cell_type": "markdown",
   "metadata": {},
   "source": [
    "The graph below is a combination of the 2 graphs above. It shows the top 10 countries with lowest life expectancy rate with highest alcohol consumption rate."
   ]
  },
  {
   "cell_type": "code",
   "execution_count": 13,
   "metadata": {
    "ExecuteTime": {
     "end_time": "2020-03-20T06:49:14.223712Z",
     "start_time": "2020-03-20T06:49:14.048444Z"
    }
   },
   "outputs": [
    {
     "data": {
      "text/plain": [
       "Text(0.5, 1.0, 'top 10 countries with low life expectancy rate and high alcohol consumption rate')"
      ]
     },
     "execution_count": 13,
     "metadata": {},
     "output_type": "execute_result"
    },
    {
     "data": {
      "image/png": "[encoded data removed]",
      "text/plain": [
       "<Figure size 432x288 with 1 Axes>"
      ]
     },
     "metadata": {
      "needs_background": "light"
     },
     "output_type": "display_data"
    }
   ],
   "source": [
    "top10 = to_plot.head(10)\n",
    "plt.plot(top10)\n",
    "plt.xticks(rotation=90)\n",
    "plt.xlabel('country')\n",
    "plt.ylabel('rate')\n",
    "plt.legend(['life expectancy', 'alcohol consumption'])\n",
    "plt.title('top 10 countries with low life expectancy rate and high alcohol consumption rate')"
   ]
  },
  {
   "cell_type": "code",
   "execution_count": 14,
   "metadata": {
    "ExecuteTime": {
     "end_time": "2020-03-20T06:49:14.228775Z",
     "start_time": "2020-03-20T06:49:14.225807Z"
    }
   },
   "outputs": [],
   "source": [
    "le_lst = le_top10.index.tolist()\n",
    "alc_lst = alc_top10.index.tolist()\n",
    "top10_lst = top10.index.tolist()"
   ]
  },
  {
   "cell_type": "code",
   "execution_count": 15,
   "metadata": {
    "ExecuteTime": {
     "end_time": "2020-03-20T06:49:14.233392Z",
     "start_time": "2020-03-20T06:49:14.230765Z"
    }
   },
   "outputs": [],
   "source": [
    "le_in_top10 = [i for i in le_lst if i in top10_lst]\n",
    "alc_in_top10 = [i for i in alc_lst if i in top10_lst]"
   ]
  },
  {
   "cell_type": "code",
   "execution_count": 16,
   "metadata": {
    "ExecuteTime": {
     "end_time": "2020-03-20T06:49:14.238079Z",
     "start_time": "2020-03-20T06:49:14.235002Z"
    }
   },
   "outputs": [
    {
     "data": {
      "text/plain": [
       "['Angola', 'Zimbabwe', 'Swaziland', 'Nigeria']"
      ]
     },
     "execution_count": 16,
     "metadata": {},
     "output_type": "execute_result"
    }
   ],
   "source": [
    "le_in_top10"
   ]
  },
  {
   "cell_type": "code",
   "execution_count": 17,
   "metadata": {
    "ExecuteTime": {
     "end_time": "2020-03-20T06:49:14.243210Z",
     "start_time": "2020-03-20T06:49:14.239822Z"
    }
   },
   "outputs": [
    {
     "data": {
      "text/plain": [
       "[]"
      ]
     },
     "execution_count": 17,
     "metadata": {},
     "output_type": "execute_result"
    }
   ],
   "source": [
    "alc_in_top10"
   ]
  },
  {
   "cell_type": "markdown",
   "metadata": {},
   "source": [
    "From the two lists above, we can see that countries with highest alcohol consumption does not indicate low life expectancy as the `alc_in_top10` list is empty."
   ]
  },
  {
   "cell_type": "code",
   "execution_count": 18,
   "metadata": {
    "ExecuteTime": {
     "end_time": "2020-03-20T06:49:14.247206Z",
     "start_time": "2020-03-20T06:49:14.245010Z"
    }
   },
   "outputs": [],
   "source": [
    "# get index for United States\n",
    "idx = le.index.get_loc('United States of America')"
   ]
  },
  {
   "cell_type": "markdown",
   "metadata": {},
   "source": [
    "Statistics of **life expectancy** and **alcohol consumption** for United States"
   ]
  },
  {
   "cell_type": "code",
   "execution_count": 19,
   "metadata": {
    "ExecuteTime": {
     "end_time": "2020-03-20T06:49:14.253066Z",
     "start_time": "2020-03-20T06:49:14.248858Z"
    },
    "scrolled": true
   },
   "outputs": [
    {
     "data": {
      "text/plain": [
       "life_expectancy    78.062500\n",
       "alcohol             8.579333\n",
       "Name: United States of America, dtype: float64"
      ]
     },
     "execution_count": 19,
     "metadata": {},
     "output_type": "execute_result"
    }
   ],
   "source": [
    "le.iloc[idx]"
   ]
  },
  {
   "cell_type": "markdown",
   "metadata": {},
   "source": [
    "Description of dataframe 1, including total count, mean, standard deviation, etc"
   ]
  },
  {
   "cell_type": "code",
   "execution_count": 20,
   "metadata": {
    "ExecuteTime": {
     "end_time": "2020-03-20T06:49:14.270405Z",
     "start_time": "2020-03-20T06:49:14.254756Z"
    }
   },
   "outputs": [
    {
     "data": {
      "text/html": [
       "<div>\n",
       "<style scoped>\n",
       "    .dataframe tbody tr th:only-of-type {\n",
       "        vertical-align: middle;\n",
       "    }\n",
       "\n",
       "    .dataframe tbody tr th {\n",
       "        vertical-align: top;\n",
       "    }\n",
       "\n",
       "    .dataframe thead th {\n",
       "        text-align: right;\n",
       "    }\n",
       "</style>\n",
       "<table border=\"1\" class=\"dataframe\">\n",
       "  <thead>\n",
       "    <tr style=\"text-align: right;\">\n",
       "      <th></th>\n",
       "      <th>life_expectancy</th>\n",
       "      <th>alcohol</th>\n",
       "    </tr>\n",
       "  </thead>\n",
       "  <tbody>\n",
       "    <tr>\n",
       "      <th>count</th>\n",
       "      <td>183.000000</td>\n",
       "      <td>191.000000</td>\n",
       "    </tr>\n",
       "    <tr>\n",
       "      <th>mean</th>\n",
       "      <td>69.224932</td>\n",
       "      <td>4.439915</td>\n",
       "    </tr>\n",
       "    <tr>\n",
       "      <th>std</th>\n",
       "      <td>9.186432</td>\n",
       "      <td>3.879682</td>\n",
       "    </tr>\n",
       "    <tr>\n",
       "      <th>min</th>\n",
       "      <td>46.112500</td>\n",
       "      <td>0.010000</td>\n",
       "    </tr>\n",
       "    <tr>\n",
       "      <th>25%</th>\n",
       "      <td>62.475000</td>\n",
       "      <td>0.969667</td>\n",
       "    </tr>\n",
       "    <tr>\n",
       "      <th>50%</th>\n",
       "      <td>72.487500</td>\n",
       "      <td>3.505333</td>\n",
       "    </tr>\n",
       "    <tr>\n",
       "      <th>75%</th>\n",
       "      <td>75.106250</td>\n",
       "      <td>7.443000</td>\n",
       "    </tr>\n",
       "    <tr>\n",
       "      <th>max</th>\n",
       "      <td>82.537500</td>\n",
       "      <td>13.497333</td>\n",
       "    </tr>\n",
       "  </tbody>\n",
       "</table>\n",
       "</div>"
      ],
      "text/plain": [
       "       life_expectancy     alcohol\n",
       "count       183.000000  191.000000\n",
       "mean         69.224932    4.439915\n",
       "std           9.186432    3.879682\n",
       "min          46.112500    0.010000\n",
       "25%          62.475000    0.969667\n",
       "50%          72.487500    3.505333\n",
       "75%          75.106250    7.443000\n",
       "max          82.537500   13.497333"
      ]
     },
     "execution_count": 20,
     "metadata": {},
     "output_type": "execute_result"
    }
   ],
   "source": [
    "le.describe()"
   ]
  },
  {
   "cell_type": "code",
   "execution_count": 21,
   "metadata": {
    "ExecuteTime": {
     "end_time": "2020-03-20T06:49:14.389019Z",
     "start_time": "2020-03-20T06:49:14.272455Z"
    }
   },
   "outputs": [
    {
     "data": {
      "image/png": "[encoded data removed]",
      "text/plain": [
       "<Figure size 432x288 with 1 Axes>"
      ]
     },
     "metadata": {
      "needs_background": "light"
     },
     "output_type": "display_data"
    }
   ],
   "source": [
    "ax = sns.boxplot(data=le['life_expectancy'])\n",
    "ax = sns.stripplot(data=[le.iloc[184][0]], color='red')"
   ]
  },
  {
   "cell_type": "code",
   "execution_count": 22,
   "metadata": {
    "ExecuteTime": {
     "end_time": "2020-03-20T06:49:14.542030Z",
     "start_time": "2020-03-20T06:49:14.391665Z"
    }
   },
   "outputs": [
    {
     "data": {
      "image/png": "[encoded data removed]",
      "text/plain": [
       "<Figure size 432x288 with 1 Axes>"
      ]
     },
     "metadata": {
      "needs_background": "light"
     },
     "output_type": "display_data"
    }
   ],
   "source": [
    "ax = sns.boxplot(data=le['alcohol'])\n",
    "ax = sns.stripplot(data=[le.iloc[184][1]], color='red')"
   ]
  },
  {
   "cell_type": "code",
   "execution_count": 23,
   "metadata": {
    "ExecuteTime": {
     "end_time": "2020-03-20T06:49:14.580480Z",
     "start_time": "2020-03-20T06:49:14.548020Z"
    }
   },
   "outputs": [
    {
     "name": "stdout",
     "output_type": "stream",
     "text": [
      "                            OLS Regression Results                            \n",
      "==============================================================================\n",
      "Dep. Variable:        life_expectancy   R-squared:                       0.213\n",
      "Model:                            OLS   Adj. R-squared:                  0.209\n",
      "Method:                 Least Squares   F-statistic:                     48.77\n",
      "Date:                Thu, 19 Mar 2020   Prob (F-statistic):           5.36e-11\n",
      "Time:                        23:49:14   Log-Likelihood:                -638.64\n",
      "No. Observations:                 182   AIC:                             1281.\n",
      "Df Residuals:                     180   BIC:                             1288.\n",
      "Df Model:                           1                                         \n",
      "Covariance Type:            nonrobust                                         \n",
      "==============================================================================\n",
      "                 coef    std err          t      P>|t|      [0.025      0.975]\n",
      "------------------------------------------------------------------------------\n",
      "Intercept     64.2514      0.942     68.194      0.000      62.392      66.111\n",
      "alcohol        1.0966      0.157      6.984      0.000       0.787       1.406\n",
      "==============================================================================\n",
      "Omnibus:                       15.506   Durbin-Watson:                   1.952\n",
      "Prob(Omnibus):                  0.000   Jarque-Bera (JB):               17.790\n",
      "Skew:                          -0.764   Prob(JB):                     0.000137\n",
      "Kurtosis:                       2.886   Cond. No.                         9.54\n",
      "==============================================================================\n",
      "\n",
      "Warnings:\n",
      "[1] Standard Errors assume that the covariance matrix of the errors is correctly specified.\n"
     ]
    }
   ],
   "source": [
    "outcome, pred = patsy.dmatrices('life_expectancy ~ alcohol', data=le)\n",
    "mod = sm.OLS(outcome, pred)\n",
    "res = mod.fit()\n",
    "print(res.summary())"
   ]
  },
  {
   "cell_type": "markdown",
   "metadata": {},
   "source": [
    "Based on the model we ran above, using alpha value of 0.01, alcohol consumption does not significantly predict life expectancy rate."
   ]
  },
  {
   "cell_type": "markdown",
   "metadata": {},
   "source": [
    "### Analysis on US Chronic Disease Indicators dataset"
   ]
  },
  {
   "cell_type": "code",
   "execution_count": 24,
   "metadata": {
    "ExecuteTime": {
     "end_time": "2020-03-20T06:49:14.608968Z",
     "start_time": "2020-03-20T06:49:14.582943Z"
    }
   },
   "outputs": [],
   "source": [
    "alcoholUseAmongYouth = cdi_df[cdi_df.Question == 'Alcohol use among youth']\n",
    "alcoholUseAmongYouth = alcoholUseAmongYouth['DataValue'].astype(float).mean()\n",
    "\n",
    "alcoholUseB4Preg = cdi_df[cdi_df.Question == 'Alcohol use before pregnancy']\n",
    "alcoholUseB4Preg = alcoholUseB4Preg['DataValue'].astype(float).mean()\n",
    "\n",
    "bingeDrinkingAmongYouth = cdi_df[cdi_df.Question == 'Binge drinking prevalence among youth']\n",
    "bingeDrinkingAmongYouth = bingeDrinkingAmongYouth['DataValue'].astype(float).mean()\n",
    "\n",
    "alcoholUseAmongAdults = cdi_df[cdi_df.Question == 'Binge drinking prevalence among adults aged >= 18 years']\n",
    "alcoholUseAmongAdults = alcoholUseAmongAdults['DataValue'].astype(float).mean()\n",
    "\n",
    "chronicLiverDisease = cdi_df[cdi_df.Question != 'Chronic liver disease mortality']\n",
    "chronicLiverDisease = chronicLiverDisease['DataValue'].astype(float).mean()\n",
    "\n",
    "bingeDrinkingAmongWomen = cdi_df[cdi_df.Question == 'Binge drinking prevalence among women aged 18-44 years']\n",
    "bingeDrinkingAmongWomen = bingeDrinkingAmongWomen['DataValue'].astype(float).mean()\n",
    "\n",
    "bingeDrinkingAmongAdults = cdi_df[cdi_df.Question == 'Binge drinking frequency among adults aged >= 18 years who binge drink']\n",
    "bingeDrinkingAmongAdults = bingeDrinkingAmongAdults['DataValue'].astype(float).mean()\n",
    "\n",
    "heavyDrinkingAmongWomen = cdi_df[cdi_df.Question == 'Heavy drinking among women aged 18-44 years']\n",
    "heavyDrinkingAmongWomen = heavyDrinkingAmongWomen['DataValue'].astype(float).mean()\n",
    "\n",
    "perCapitaAlcConsumption = cdi_df[cdi_df.Question == 'Per capita alcohol consumption among persons aged >= 14 years']\n",
    "perCapitaAlcConsumption = perCapitaAlcConsumption['DataValue'].astype(float).mean()"
   ]
  },
  {
   "cell_type": "code",
   "execution_count": 25,
   "metadata": {
    "ExecuteTime": {
     "end_time": "2020-03-20T06:49:14.615463Z",
     "start_time": "2020-03-20T06:49:14.610822Z"
    }
   },
   "outputs": [],
   "source": [
    "keys = ['Alcohol Use Among Youth', 'Alcohol Use Before Pregnancy', 'Binge Drinking Among Youth', 'Alcohol Use Among Adults', \\\n",
    "       'Chronic Liver Disease Mortality', 'Binge Drinking Among Women', 'Binge Drinking Among Adults', 'Heavy Drinking Among Women', \\\n",
    "       'Per Capita Alcohol Consumption']\n",
    "vals = [alcoholUseAmongYouth, alcoholUseB4Preg, bingeDrinkingAmongYouth, alcoholUseAmongAdults, \\\n",
    "       chronicLiverDisease, bingeDrinkingAmongWomen, bingeDrinkingAmongAdults, heavyDrinkingAmongWomen, \\\n",
    "       perCapitaAlcConsumption]\n",
    "dic = dict(zip(keys, vals))\n",
    "df = pd.DataFrame.from_dict(dic, orient='index')"
   ]
  },
  {
   "cell_type": "code",
   "execution_count": 26,
   "metadata": {
    "ExecuteTime": {
     "end_time": "2020-03-20T06:49:14.823288Z",
     "start_time": "2020-03-20T06:49:14.617452Z"
    }
   },
   "outputs": [
    {
     "data": {
      "text/plain": [
       "Text(0.5, 1.0, 'prevalence percentage for general alcohol use in the US')"
      ]
     },
     "execution_count": 26,
     "metadata": {},
     "output_type": "execute_result"
    },
    {
     "data": {
      "image/png": "[encoded data removed]",
      "text/plain": [
       "<Figure size 432x288 with 1 Axes>"
      ]
     },
     "metadata": {
      "needs_background": "light"
     },
     "output_type": "display_data"
    }
   ],
   "source": [
    "ax = df.plot(kind='bar')\n",
    "ax.set_xlabel('category')\n",
    "ax.set_ylabel('percentage')\n",
    "ax.set_title('prevalence percentage for general alcohol use in the US')"
   ]
  },
  {
   "cell_type": "markdown",
   "metadata": {},
   "source": [
    "We can see relatively higher prevalence rates of alcohol use and binge drinking among youth compared to adults. Also, the prevalence of mortality by chronic liver disease is not substantially high. While it seems like there is a fair amount of alcohol use in the US, it does not have such a impact on life expectancy."
   ]
  },
  {
   "cell_type": "markdown",
   "metadata": {},
   "source": [
    "### Analysis on Death Counts/Rates by Alcohol Consumption dataset"
   ]
  },
  {
   "cell_type": "code",
   "execution_count": 27,
   "metadata": {
    "ExecuteTime": {
     "end_time": "2020-03-20T06:49:15.194353Z",
     "start_time": "2020-03-20T06:49:14.825505Z"
    }
   },
   "outputs": [
    {
     "data": {
      "text/plain": [
       "Text(0.5, 1.0, 'Alcohol Death Counts by Country')"
      ]
     },
     "execution_count": 27,
     "metadata": {},
     "output_type": "execute_result"
    },
    {
     "data": {
      "image/png": "[encoded data removed]",
      "text/plain": [
       "<Figure size 432x288 with 1 Axes>"
      ]
     },
     "metadata": {
      "needs_background": "light"
     },
     "output_type": "display_data"
    }
   ],
   "source": [
    "#Plotting the number of deaths across countries\n",
    "number_of_deaths = df3.drop(columns = ['Death Rates'])\n",
    "number_of_deaths = number_of_deaths[number_of_deaths['Country']!='World']\n",
    "number_of_deaths = number_of_deaths.set_index('Year')\n",
    "number_of_deaths = pd.pivot_table(number_of_deaths, index = 'Year', columns = 'Country')\n",
    "plt.plot(number_of_deaths)\n",
    "plt.xticks(rotation=90)\n",
    "plt.xlabel('Year')\n",
    "plt.ylabel('Number of Deaths')\n",
    "plt.title('Alcohol Death Counts by Country')"
   ]
  },
  {
   "cell_type": "markdown",
   "metadata": {},
   "source": [
    "This graph shows three distinct countries that have relatively higher number of deaths by alcohol consumption compared to all the other countries. In the cells below, we will dive deeper into performing analysis on which countries have the most number of deaths."
   ]
  },
  {
   "cell_type": "code",
   "execution_count": 28,
   "metadata": {
    "ExecuteTime": {
     "end_time": "2020-03-20T06:49:15.201269Z",
     "start_time": "2020-03-20T06:49:15.196876Z"
    }
   },
   "outputs": [
    {
     "data": {
      "text/plain": [
       "('Number of Deaths', 'China')"
      ]
     },
     "execution_count": 28,
     "metadata": {},
     "output_type": "execute_result"
    }
   ],
   "source": [
    "#Top Country overall\n",
    "top_country = number_of_deaths.sum().idxmax()\n",
    "top_country"
   ]
  },
  {
   "cell_type": "code",
   "execution_count": 29,
   "metadata": {
    "ExecuteTime": {
     "end_time": "2020-03-20T06:49:15.210529Z",
     "start_time": "2020-03-20T06:49:15.203166Z"
    }
   },
   "outputs": [
    {
     "data": {
      "text/plain": [
       "['China',\n",
       " 'India',\n",
       " 'Russia',\n",
       " 'Ukraine',\n",
       " 'Brazil',\n",
       " 'Germany',\n",
       " 'Nigeria',\n",
       " 'France',\n",
       " 'United States',\n",
       " 'South Africa']"
      ]
     },
     "execution_count": 29,
     "metadata": {},
     "output_type": "execute_result"
    }
   ],
   "source": [
    "dictionary = number_of_deaths.sum()\n",
    "top10countries = []\n",
    "for i in range(10):\n",
    "    country = dictionary.idxmax()\n",
    "    top10countries.append(country[1])\n",
    "    dictionary[country] = 0\n",
    "top10countries"
   ]
  },
  {
   "cell_type": "code",
   "execution_count": 30,
   "metadata": {
    "ExecuteTime": {
     "end_time": "2020-03-20T06:49:15.420038Z",
     "start_time": "2020-03-20T06:49:15.212656Z"
    }
   },
   "outputs": [
    {
     "data": {
      "text/plain": [
       "Text(0.5, 1.0, 'Alcohol Death Counts by Country')"
      ]
     },
     "execution_count": 30,
     "metadata": {},
     "output_type": "execute_result"
    },
    {
     "data": {
      "image/png": "[encoded data removed]",
      "text/plain": [
       "<Figure size 432x288 with 1 Axes>"
      ]
     },
     "metadata": {
      "needs_background": "light"
     },
     "output_type": "display_data"
    }
   ],
   "source": [
    "#Plot top 10 Countries\n",
    "top10countries_plot = number_of_deaths['Number of Deaths'][top10countries]\n",
    "plt.plot(top10countries_plot)\n",
    "plt.xticks(rotation=90)\n",
    "plt.xlabel('Year')\n",
    "plt.legend(top10countries)\n",
    "plt.ylabel('Number of Deaths')\n",
    "plt.title('Alcohol Death Counts by Country')"
   ]
  },
  {
   "cell_type": "markdown",
   "metadata": {},
   "source": [
    "The graph above shows that of the top 10 countries with the most number of death counts by alcohol consumption, China, India, and  Russia reports the highest, making  them the top three countries with most deaths. The other countries seem to have similar number of deaths resulting from alcohol consumption at about 100000 people throughout the years."
   ]
  },
  {
   "cell_type": "code",
   "execution_count": 319,
   "metadata": {},
   "outputs": [
    {
     "data": {
      "text/plain": [
       "Text(0.5, 1.0, 'Death Rates by Country')"
      ]
     },
     "execution_count": 319,
     "metadata": {},
     "output_type": "execute_result"
    },
    {
     "data": {
      "image/png": "[encoded data removed]",
      "text/plain": [
       "<Figure size 432x288 with 1 Axes>"
      ]
     },
     "metadata": {
      "needs_background": "light"
     },
     "output_type": "display_data"
    }
   ],
   "source": [
    "#Plotting the death rates across countries\n",
    "death_rates  = df3.drop(columns = ['Number of Deaths'])\n",
    "death_rates = death_rates.set_index('Year')\n",
    "death_rates = pd.pivot_table(death_rates, index = 'Year', columns = 'Country')\n",
    "plt.plot(death_rates)\n",
    "plt.xticks(rotation=90)\n",
    "plt.xlabel('Year')\n",
    "plt.ylabel('Death Rates')\n",
    "plt.title('Death Rates by Country')"
   ]
  },
  {
   "cell_type": "markdown",
   "metadata": {},
   "source": [
    "From the graph shown above, we can see that from 1990 - 2017, many countries have kept their death rates from alcohol consumption below about 150, with the exception of about three countries that reported to have higher death rates than the rest of the countries."
   ]
  },
  {
   "cell_type": "code",
   "execution_count": 320,
   "metadata": {},
   "outputs": [
    {
     "data": {
      "text/plain": [
       "('Death Rates', 'Burundi')"
      ]
     },
     "execution_count": 320,
     "metadata": {},
     "output_type": "execute_result"
    }
   ],
   "source": [
    "#Country with highest average rate over the years\n",
    "top_rate = death_rates.mean().idxmax()\n",
    "top_rate"
   ]
  },
  {
   "cell_type": "code",
   "execution_count": 321,
   "metadata": {},
   "outputs": [
    {
     "data": {
      "text/plain": [
       "['Burundi',\n",
       " 'Lesotho',\n",
       " 'Rwanda',\n",
       " 'Sierra Leone',\n",
       " 'Romania',\n",
       " 'South Africa',\n",
       " 'Moldova',\n",
       " 'Swaziland',\n",
       " 'Hungary',\n",
       " 'Ukraine']"
      ]
     },
     "execution_count": 321,
     "metadata": {},
     "output_type": "execute_result"
    }
   ],
   "source": [
    "rates_dict = death_rates.mean()\n",
    "top10countriesRate = []\n",
    "for i in range(10):\n",
    "    country = rates_dict.idxmax()\n",
    "    top10countriesRate.append(country[1])\n",
    "    rates_dict[country] = 0\n",
    "top10countriesRate"
   ]
  },
  {
   "cell_type": "code",
   "execution_count": 322,
   "metadata": {},
   "outputs": [
    {
     "data": {
      "text/plain": [
       "Text(0.5, 1.0, 'Death Rates by Country')"
      ]
     },
     "execution_count": 322,
     "metadata": {},
     "output_type": "execute_result"
    },
    {
     "data": {
      "image/png": "[encoded data removed]",
      "text/plain": [
       "<Figure size 432x288 with 1 Axes>"
      ]
     },
     "metadata": {
      "needs_background": "light"
     },
     "output_type": "display_data"
    }
   ],
   "source": [
    "top10countriesRate_plot = death_rates['Death Rates'][top10countriesRate]\n",
    "plt.plot(top10countriesRate_plot)\n",
    "plt.xticks(rotation=90)\n",
    "plt.xlabel('Year')\n",
    "plt.legend(top10countriesRate)\n",
    "plt.ylabel('Death Rates')\n",
    "plt.title('Death Rates by Country')"
   ]
  },
  {
   "cell_type": "markdown",
   "metadata": {},
   "source": [
    "From the graph shown above, we can see that the death rates have generally decreased over the years for the top 10 countries with the highest average death rates that resulted from alcohol consumption. This can be attributed to the fact that modern medicine has developed greatly and has found ways to keep people from dying, even from alcohol consumption."
   ]
  },
  {
   "cell_type": "markdown",
   "metadata": {},
   "source": [
    "# Ethics & Privacy"
   ]
  },
  {
   "cell_type": "markdown",
   "metadata": {},
   "source": [
    "In the initial stages of completing our project, our group did extensive research on what kinds of data were available to us. All of the datasets that we've used in this project was found online and were given proper reference to it by linking them in the datasets section above. Although these datasets were published online and did not require us to sign any agreements, we were still concerned about the fact that we did not obtain the data ourselves and therefore don't know how the data was collected. This raised several more concerns about how accurate or reliable this data was, and had us wondering if it correctly represented the given populations. However, since we obtained our data from a research article (ourworldindata.org), Kaggle, and data.world (both of which were listed in the suggested resource list on the project guideline), we agreed that our datasets were reliable and valid enough for the scope of our project.\n",
    "\n",
    "In terms of the topic of our project, our group discussed how misinformation could affect our analysis. Our datasets involve the reports of alcohol consumption, health related issues, and death rates, all of which are sensitive topics. Misinformation on this data could result from citizens who do not have access to health care, in which case those people may not be accounted for. In another case, it may be that developing countries do not have a reliable healthcare system that keeps all records of their patients. Another way data can be biased is if people do not accurately report their cases. For example, if a survey was sent out asking people to answer questions on their alcohol consumption behaviors, and even asking them to report what age they are and what age they started drinking, certain groups of people may be more inclined to lie in the survey about their drinking habits. To be more specific, underaged drinkers may lie about their ages. This relates back to what our group discussed about not knowing how our data was originally collected, whether it was through surveys or through hospital records. In either case, such misinformation could bias our data to skew our results."
   ]
  },
  {
   "cell_type": "markdown",
   "metadata": {},
   "source": [
    "# Conclusion & Discussion"
   ]
  },
  {
   "cell_type": "markdown",
   "metadata": {},
   "source": [
    "The question we were trying to answer is whether alcohol consumption correlates to low mortality rates and high accident rates. We were interested in understanding how cultures across the world relate to alcohol consumption and learning about people’s drinking habits and behaviors. \n",
    "\n",
    "From a general perspective, we found that from 1990-2017, China had the most number of total deaths cumulative that resulted from alcohol consumption. After cleaning the dataset, we transformed the data using the pivot table method to produce data visualization showing the death counts and rates of different countries. According to our analysis, the death rates have generally decreased over the years for the top 10 countries with the highest average death rates. This can be attributed to the fact that modern medicine has developed greatly and has found ways to keep people healthy. This is a possible confounding variable that may have been overlooked in our analysis. Some other limitations of our project include a correlation without exploring any possible confounding variables like cancer or other diseases - we kept in mind that correlation does not equal causation.  \n",
    "\n",
    "From the dataset of life expectancy we found from Kaggle, we were able to list the top 10 countries with the lowest life expectancy and highest alcohol consumption. We did this by finding whether the first half of the data of life expectancy overlapped with each other in alcohol consumption and then plotted them as a line graph. In addition, we specifically extracted the data for the United States of America to take a look at and the red dots in the boxplots above are the data points for the USA. Furthermore, we were able to perform an OLS model on the two predicting variables and it resulted that life expectancy does not significantly predict alcohol consumption in general. We think that with further analysis and research, we can find more predicting variables (or confounding variables) that may also affect the life expectancy records.\n",
    "\n",
    "Ultimately, even though alcohol use does not directly correlate with mortality and life expectancy rates, alcohol consumers should not take this analysis as validation to drink more. However, our analysis can contribute to raising awareness about safe drinking habits and encouraging people to learn more about how even the most obvious seeming actions (since drinking alcohol is a social norm in many countries - for example, South Korea) can have such large impacts on the people in our communities. From the Chronic Disease Indicator dataset that CDC provided, we see that there is a higher pattern of alcohol use among young people compared to adults. Therefore, this is very relevant to youths such as college students where underaged drinking and hazing occur often.  This ties in to our discussion about data ethics and privacy, we talked about how underaged drinkers may have had an affect on misrepresenting the data and therefore skewing our results. With further analysis on this topic, we believe that this could lay a better foundation for possibly decreasing the number of underaged people that drink.\n"
   ]
  },
  {
   "cell_type": "markdown",
   "metadata": {},
   "source": [
    "# Team Contributions"
   ]
  },
  {
   "cell_type": "markdown",
   "metadata": {},
   "source": [
    "Here is the team contributions for each part of the final project, everyone worked on the project equally.\n",
    "\n",
    "| section | person/people| \n",
    "| --- | --- |\n",
    "| Overview | Sim |\n",
    "| Research Question & Background Work & Hypothesis | Sabrina/Sim/Jaye/Kevin |\n",
    "| Dataset(s) | Sabrina/Jaye/Kevin |\n",
    "| Set Up & Data Cleaning & Data Analysis and Results | Sabrina/Jaye/Kevin |\n",
    "| Ethics & Privacy | Sim/Jaye |\n",
    "| Conclusion & Discussion | Sabrina/Sim/Jaye/Kevin |\n",
    "| Team Contributions | Sabrina/Sim/Jaye/Kevin |"
   ]
  }
 ],
 "metadata": {
  "kernelspec": {
   "display_name": "Python 3",
   "language": "python",
   "name": "python3"
  },
  "language_info": {
   "codemirror_mode": {
    "name": "ipython",
    "version": 3
   },
   "file_extension": ".py",
   "mimetype": "text/x-python",
   "name": "python",
   "nbconvert_exporter": "python",
   "pygments_lexer": "ipython3",
   "version": "3.7.3"
  }
 },
 "nbformat": 4,
 "nbformat_minor": 2
}
