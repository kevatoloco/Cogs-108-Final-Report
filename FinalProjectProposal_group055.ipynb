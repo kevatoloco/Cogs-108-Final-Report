{
 "cells": [
  {
   "cell_type": "markdown",
   "metadata": {},
   "source": [
    "# COGS 108 - Final Project Proposal"
   ]
  },
  {
   "cell_type": "markdown",
   "metadata": {},
   "source": [
    "# Names and Group Members PIDs"
   ]
  },
  {
   "cell_type": "markdown",
   "metadata": {},
   "source": [
    "| Name  | PID | GitHub | LinkedIn |\n",
    "|---|---|---|---|\n",
    "| Sabrina Ho  |  A14897452 | [iamsabhoho](https://github.com/iamsabhoho) | [sabrinaho7](https://www.linkedin.com/in/sabrinaho7/) |\n",
    "| Sim Bhatia  |  A13965428 | [sibhatia](https://github.com/sibhatia) | [simbhatia33](https://www.linkedin.com/in/simbhatia33/) |\n",
    "| Jaye Cho | A15500172 | [jayeokay](https://github.com/jayeokay) | [jaye-cho-218548178](https://www.linkedin.com/in/jaye-cho-218548178/) |\n",
    "| Kevin Nguyen  | A15283178  | [kevatoloco](https://github.com/kevatoloco) | |"
   ]
  },
  {
   "cell_type": "markdown",
   "metadata": {},
   "source": [
    "# Research Question"
   ]
  },
  {
   "cell_type": "markdown",
   "metadata": {},
   "source": [
    "We are interested in understanding how culture across the world affects alcohol consumption and applying that understanding to answering how alcohol consumption correlates with accident rates, specifically in the United States."
   ]
  },
  {
   "cell_type": "markdown",
   "metadata": {},
   "source": [
    "## Background and Prior Work"
   ]
  },
  {
   "cell_type": "markdown",
   "metadata": {},
   "source": [
    "*Fill in your background and prior work here. Be sure to specify which statements are from which references.* \n",
    "\n",
    "<img src=\"images/meme.png\">\n",
    "\n",
    "References (include links):\n",
    "- 1) [ref 1](https://www.insider.com/alcohol-every-day-ages-your-brain-quicker-17000-brain-scans-2020-1?fbclid=IwAR3bcP2qzI7PX2qPwwXCNsjTOp3SelHzI5Urslt0JJW_yIW_WhpOerlnWEY)\n",
    "- 2) [ref 2](https://www.washingtonpost.com/news/wonk/wp/2014/09/25/think-you-drink-a-lot-this-chart-will-tell-you/?fbclid=IwAR0doa5zOpeKGhm80JEOEH6r4EWEVtLXvOBBgVkQG6n0NFojhM3InPUCBig)"
   ]
  },
  {
   "cell_type": "markdown",
   "metadata": {},
   "source": [
    "# Hypothesis\n"
   ]
  },
  {
   "cell_type": "markdown",
   "metadata": {},
   "source": [
    "We hypothesize that alcohol consumption will be markedly low in the United States relative to other countries due to the older drinking age. Furthermore, in some other cultures, drinking is heavily ingrained in societal norms and also in religion, so alcohol consumption, regardless of age, is more acceptable in multiple contexts, not just in leisure. Additionally, we hypothesize that countries with higher alcohol consumption will also have an increased rate of alcohol-related accidents, since alcohol impairs important areas of functioning."
   ]
  },
  {
   "cell_type": "markdown",
   "metadata": {},
   "source": [
    "# Data"
   ]
  },
  {
   "cell_type": "markdown",
   "metadata": {},
   "source": [
    "*Explain what the ideal dataset you would want to answer this question. (This should include: What variables? How many observations? Who/what/how would these data be collected? How would these data be stored/organized?)*\n",
    "\n",
    "**dataset 1: United States/worldwide alcohol consumption**\n",
    "- country\n",
    "- alcohol consumption (eg, average alcohol consumed per person, number of bottle sold per year/month, ...)\n",
    "- gender ratio \n",
    "- age \n",
    "- ethnicity\n",
    "\n",
    "**dataset 2: United States' health condition based on alcohol consumption**\n",
    "- country\n",
    "- alcohol consumption\n",
    "- gender \n",
    "- age \n",
    "- ethnicity\n",
    "- occupation\n",
    "- martial status\n",
    "- (other personal information would help) etc\n",
    "\n",
    "**dataset 3: United States' accidents report**\n",
    "- datetime\n",
    "- type of accidents\n",
    "- whether or not alcohol is involved\n",
    "- victims \n",
    "    - survived or died (y/n)\n",
    "    - country\n",
    "    - alcohol consumption (y/n)\n",
    "    - gender \n",
    "    - age \n",
    "    - ethnicity\n",
    "    - occupation\n",
    "    - martial status\n",
    "    - (other personal information would help) etc\n",
    "- suspects\n",
    "    - survived or died\n",
    "    - country\n",
    "    - alcohol consumption (y/n)\n",
    "    - gender \n",
    "    - age \n",
    "    - ethnicity\n",
    "    - occupation\n",
    "    - martial status\n",
    "    - (other personal information would help) etc\n"
   ]
  },
  {
   "cell_type": "markdown",
   "metadata": {},
   "source": [
    "# Ethics & Privacy"
   ]
  },
  {
   "cell_type": "markdown",
   "metadata": {},
   "source": [
    "In the initial stages of completing our project, our group did extensive research on what kinds of data were available to us. All of the datasets that we've used in this project was found online and were given proper reference to it by linking them in the datasets section above. Although these datasets were published online and did not require us to sign any agreements, we were still concerned about the fact that we did not obtain the data ourselves and therefore don't know how the data was collected. This raised several more concerns about how accurate or reliable this data was, and had us wondering if it correctly represented the given populations. However, since we obtained our data from a research article (ourworldindata.org), Kaggle, and data.world (both of which were listed in the suggested resource list on the project guideline), we agreed that our datasets were reliable and valid enough for the scope of our project.\n",
    "\n",
    "In terms of the topic of our project, our group discussed how misinformation could affect our analysis. Our datasets involve the reports of alcohol consumption, health related issues, and death rates, all of which are sensitive topics. Misinformation on this data could result from citizens who do not have access to health care, in which case those people may not be accounted for. In another case, it may be that developing countries do not have a reliable healthcare system that keeps all records of their patients. Another way data can be biased is if people do not accurately report their cases. For example, if a survey was sent out asking people to answer questions on their alcohol consumption behaviors, and even asking them to report what age they are and what age they started drinking, certain groups of people may be more inclined to lie in the survey about their drinking habits. To be more specific, underaged drinkers may lie about their ages. This relates back to what our group discussed about not knowing how our data was originally collected, whether it was through surveys or through hospital records. In either case, such misinformation could bias our data to skew our results."
   ]
  },
  {
   "cell_type": "markdown",
   "metadata": {},
   "source": [
    "# Team Expectations "
   ]
  },
  {
   "cell_type": "markdown",
   "metadata": {},
   "source": [
    "* *meet weekly, don't be late*\n",
    "* *finish assigned parts*\n",
    "* *respond to messages*\n",
    "* *ask if help is needed*\n",
    "* *communicate with all group members*"
   ]
  },
  {
   "cell_type": "markdown",
   "metadata": {},
   "source": [
    "# Project Timeline Proposal"
   ]
  },
  {
   "cell_type": "markdown",
   "metadata": {},
   "source": [
    "| Meeting Date  | Meeting Time| Completed Before Meeting  | Discuss at Meeting |\n",
    "|---|---|---|---|\n",
    "| 1/20  |  11 AM | read and think about cogs108 expectations; each brainstorm a few topics/ideas for the project  | determine best form of communication; set weekly meeting time; discuss and decide on the topic; come up with research questions and hypothesis | \n",
    "| 1/27  |  11 AM |  do background research on the topic | discuss and find dataset(s) and ethics; draft project proposal | \n",
    "| 2/3  | 11 AM  | edit, finalize, and submit project proposal  | discuss possible analytical approaches; assign parts to each member   |\n",
    "| 2/10  | 11 AM  | import and clean dataset(s) | discuss cleaned dataset(s) and analysis plan   |\n",
    "| 2/17  | 11 AM  | start on data visulizations; begin analysis | discuss and edit data visualization and analysis; complete project check-in |\n",
    "| 2/24  | 11 AM  | complete assigned parts (1); start on final project draft | discuss and edit project |\n",
    "| 3/2  | 11 AM  | complete assigned parts (2); continue on final project draft | discuss and edit project |\n",
    "| 3/9  | 11 AM  | complete analysis; draft results, conclusion, and discussions | discuss and edit project |\n",
    "| 3/19  | Before 11:59 PM  | NA | turn in final project and group project surveys |"
   ]
  },
  {
   "cell_type": "markdown",
   "metadata": {},
   "source": []
  }
 ],
 "metadata": {
  "kernelspec": {
   "display_name": "Python 3",
   "language": "python",
   "name": "python3"
  },
  "language_info": {
   "codemirror_mode": {
    "name": "ipython",
    "version": 3
   },
   "file_extension": ".py",
   "mimetype": "text/x-python",
   "name": "python",
   "nbconvert_exporter": "python",
   "pygments_lexer": "ipython3",
   "version": "3.7.4"
  }
 },
 "nbformat": 4,
 "nbformat_minor": 2
}
